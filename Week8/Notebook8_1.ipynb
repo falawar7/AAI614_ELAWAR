{
  "cells": [
    {
      "cell_type": "markdown",
      "metadata": {
        "id": "view-in-github",
        "colab_type": "text"
      },
      "source": [
        "<a href=\"https://colab.research.google.com/github/falawar7/AAI614_ELAWAR/blob/main/Week8/Notebook8_1.ipynb\" target=\"_parent\"><img src=\"https://colab.research.google.com/assets/colab-badge.svg\" alt=\"Open In Colab\"/></a>"
      ]
    },
    {
      "cell_type": "markdown",
      "metadata": {
        "id": "1u2isGF9BBV9"
      },
      "source": [
        "# AAI614: Data Science & its Applications\n",
        "\n",
        "*Notebook 8.1: Visualization with Python*\n",
        "\n"
      ]
    },
    {
      "cell_type": "code",
      "execution_count": 1,
      "metadata": {
        "id": "-0cyOIU1BBV-"
      },
      "outputs": [],
      "source": [
        "import pandas as pd\n",
        "import matplotlib.pyplot as plt\n",
        "import ssl\n",
        "\n",
        "%matplotlib inline"
      ]
    },
    {
      "cell_type": "code",
      "execution_count": null,
      "metadata": {
        "id": "StLb2BXIBBV-"
      },
      "outputs": [],
      "source": [
        "ssl._create_default_https_context = ssl._create_unverified_context\n",
        "\n",
        "space = pd.read_csv(\n",
        "    \"https://raw.githubusercontent.com/harmanani/AAI614/main/Week%208/space_missions.csv\",\n",
        "    parse_dates = [\"Date\"],\n",
        "    index_col = \"Date\"\n",
        ")\n",
        "\n",
        "space.head()"
      ]
    },
    {
      "cell_type": "code",
      "execution_count": null,
      "metadata": {
        "id": "Ms740xHDBBV_"
      },
      "outputs": [],
      "source": [
        "space[\"Cost\"].head()"
      ]
    },
    {
      "cell_type": "markdown",
      "metadata": {
        "id": "ObJ7k3HgBBV_"
      },
      "source": [
        "## Line Plots"
      ]
    },
    {
      "cell_type": "code",
      "execution_count": null,
      "metadata": {
        "id": "BhFMSsu3BBV_"
      },
      "outputs": [],
      "source": [
        "space[\"Cost\"].plot()"
      ]
    },
    {
      "cell_type": "code",
      "execution_count": null,
      "metadata": {
        "id": "svF0viOIBBV_"
      },
      "outputs": [],
      "source": [
        "space.plot()"
      ]
    },
    {
      "cell_type": "code",
      "execution_count": null,
      "metadata": {
        "id": "clayEodWBBV_"
      },
      "outputs": [],
      "source": [
        "data = [\n",
        "    [2000, 3000000],\n",
        "    [5000, 5000000]\n",
        "]\n",
        "\n",
        "df = pd.DataFrame(data = data, columns = [\"Small\", \"Large\"])\n",
        "df"
      ]
    },
    {
      "cell_type": "code",
      "execution_count": null,
      "metadata": {
        "id": "RTozZ81wBBWA"
      },
      "outputs": [],
      "source": [
        "df.plot()"
      ]
    },
    {
      "cell_type": "code",
      "execution_count": null,
      "metadata": {
        "scrolled": true,
        "id": "ke60_YSQBBWA"
      },
      "outputs": [],
      "source": [
        "space.plot(y = \"Cost\")"
      ]
    },
    {
      "cell_type": "code",
      "execution_count": null,
      "metadata": {
        "id": "WCQmcUaKBBWA"
      },
      "outputs": [],
      "source": [
        "space.plot(y = \"Cost\", colormap = \"Accent\")"
      ]
    },
    {
      "cell_type": "code",
      "execution_count": null,
      "metadata": {
        "id": "_fsgQY-iBBWA"
      },
      "outputs": [],
      "source": [
        "print(plt.colormaps())"
      ]
    },
    {
      "cell_type": "markdown",
      "metadata": {
        "id": "6pg-Ad44BBWA"
      },
      "source": [
        "## Bar Graphs"
      ]
    },
    {
      "cell_type": "code",
      "execution_count": null,
      "metadata": {
        "id": "iPPSfMF0BBWA"
      },
      "outputs": [],
      "source": [
        "space[\"Company Name\"].value_counts()"
      ]
    },
    {
      "cell_type": "code",
      "execution_count": null,
      "metadata": {
        "id": "WTvWaIG5BBWA"
      },
      "outputs": [],
      "source": [
        "space[\"Company Name\"].value_counts().plot(kind = \"bar\")"
      ]
    },
    {
      "cell_type": "code",
      "execution_count": null,
      "metadata": {
        "id": "gmVPywbuBBWA"
      },
      "outputs": [],
      "source": [
        "space[\"Company Name\"].value_counts().plot(kind = \"barh\")"
      ]
    },
    {
      "cell_type": "markdown",
      "metadata": {
        "id": "MuIn91TqBBWB"
      },
      "source": [
        "## Pie Charts"
      ]
    },
    {
      "cell_type": "code",
      "execution_count": null,
      "metadata": {
        "id": "goL3xd0VBBWB"
      },
      "outputs": [],
      "source": [
        "space[\"Status\"].value_counts()"
      ]
    },
    {
      "cell_type": "code",
      "execution_count": null,
      "metadata": {
        "id": "jq7vponwBBWB"
      },
      "outputs": [],
      "source": [
        "space[\"Status\"].value_counts().plot(kind = \"pie\")"
      ]
    },
    {
      "cell_type": "code",
      "execution_count": null,
      "metadata": {
        "id": "14Ky32bsBBWB"
      },
      "outputs": [],
      "source": [
        "explode = (0.01, 0.1)\n",
        "space[\"Status\"].value_counts().plot(kind = \"pie\", explode=explode, legend = True)"
      ]
    },
    {
      "cell_type": "markdown",
      "metadata": {
        "id": "_TobNEriBBWB"
      },
      "source": [
        "## Statistical Plots"
      ]
    },
    {
      "cell_type": "code",
      "execution_count": null,
      "metadata": {
        "id": "sbO7SxIiBBWB"
      },
      "outputs": [],
      "source": [
        "import seaborn as sns\n",
        "\n",
        "tips_data = sns.load_dataset('tips')\n",
        "tips_data = pd.read_csv(\"tips_data.csv\")"
      ]
    },
    {
      "cell_type": "code",
      "execution_count": null,
      "metadata": {
        "id": "qmBINgsGBBWB"
      },
      "outputs": [],
      "source": [
        "sns.boxplot(x=space[\"Cost\"])"
      ]
    },
    {
      "cell_type": "code",
      "execution_count": null,
      "metadata": {
        "id": "wv77T9bgBBWB"
      },
      "outputs": [],
      "source": [
        "sns.boxplot(data=space, x=\"Cost\", y=\"Status\")"
      ]
    },
    {
      "cell_type": "code",
      "execution_count": null,
      "metadata": {
        "id": "52IBncL0BBWB"
      },
      "outputs": [],
      "source": [
        "sns.violinplot(x='tip', y='sex', data=tips_data)"
      ]
    },
    {
      "cell_type": "code",
      "execution_count": null,
      "metadata": {
        "id": "nTMTi4cmBBWB"
      },
      "outputs": [],
      "source": [
        "sns.displot(space['Cost'])"
      ]
    },
    {
      "cell_type": "code",
      "execution_count": null,
      "metadata": {
        "id": "DK_arliMBBWB"
      },
      "outputs": [],
      "source": [
        "sns.jointplot(x='Cost', y='Status', data=space)"
      ]
    },
    {
      "cell_type": "code",
      "execution_count": null,
      "metadata": {
        "id": "Ob6KJPucBBWB"
      },
      "outputs": [],
      "source": [
        "sns.pairplot(data=tips_data)"
      ]
    },
    {
      "cell_type": "code",
      "execution_count": null,
      "metadata": {
        "id": "AUnqvlX2BBWB"
      },
      "outputs": [],
      "source": [
        "sns.pairplot(data=tips_data, hue = 'time')"
      ]
    },
    {
      "cell_type": "code",
      "execution_count": null,
      "metadata": {
        "id": "2m_wJMSjBBWB"
      },
      "outputs": [],
      "source": [
        "sns.stripplot(x='total_bill', y='sex', hue='time', data=tips_data)"
      ]
    },
    {
      "cell_type": "code",
      "execution_count": null,
      "metadata": {
        "id": "IeOPanyqBBWB"
      },
      "outputs": [],
      "source": [
        "sns.swarmplot(x='total_bill', y='sex', hue='time', data=tips_data)"
      ]
    }
  ],
  "metadata": {
    "kernelspec": {
      "display_name": "Python 3",
      "language": "python",
      "name": "python3"
    },
    "language_info": {
      "codemirror_mode": {
        "name": "ipython",
        "version": 3
      },
      "file_extension": ".py",
      "mimetype": "text/x-python",
      "name": "python",
      "nbconvert_exporter": "python",
      "pygments_lexer": "ipython3",
      "version": "3.10.11"
    },
    "colab": {
      "provenance": [],
      "include_colab_link": true
    }
  },
  "nbformat": 4,
  "nbformat_minor": 0
}