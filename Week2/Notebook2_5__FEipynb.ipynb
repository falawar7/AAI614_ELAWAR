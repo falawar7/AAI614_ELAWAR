{
  "cells": [
    {
      "cell_type": "markdown",
      "metadata": {
        "id": "view-in-github",
        "colab_type": "text"
      },
      "source": [
        "<a href=\"https://colab.research.google.com/github/falawar7/AAI614_ELAWAR/blob/main/Week2/Notebook2_5__FEipynb.ipynb\" target=\"_parent\"><img src=\"https://colab.research.google.com/assets/colab-badge.svg\" alt=\"Open In Colab\"/></a>"
      ]
    },
    {
      "cell_type": "markdown",
      "metadata": {
        "id": "TNCytWPgyXXJ"
      },
      "source": [
        "# AAI614: Data Science & its Applications\n",
        "\n",
        "*Notebook 2.5: Practice with Parquet and File Types*\n",
        "\n"
      ]
    },
    {
      "cell_type": "code",
      "execution_count": 1,
      "metadata": {
        "id": "XEi-4ujeyXXK"
      },
      "outputs": [],
      "source": [
        "import pandas as pd\n",
        "import time\n",
        "import ssl\n",
        "\n",
        "ssl._create_default_https_context = ssl._create_unverified_context"
      ]
    },
    {
      "cell_type": "code",
      "execution_count": 2,
      "metadata": {
        "id": "18t32RS4yXXK"
      },
      "outputs": [],
      "source": [
        "class Timer:\n",
        "    def __enter__(self):\n",
        "        self.start = time.perf_counter()\n",
        "        return self\n",
        "\n",
        "    def __exit__(self, *args):\n",
        "        self.end = time.perf_counter()\n",
        "        self.interval = self.end - self.start"
      ]
    },
    {
      "cell_type": "markdown",
      "metadata": {
        "id": "bFIy3aTVyXXL"
      },
      "source": [
        "##### Read the Parqeut file and time it"
      ]
    },
    {
      "cell_type": "code",
      "execution_count": 4,
      "metadata": {
        "colab": {
          "base_uri": "https://localhost:8080/"
        },
        "id": "LxmTgoK4yXXL",
        "outputId": "73d7dac7-f94d-45c3-bdef-e714792ae60e"
      },
      "outputs": [
        {
          "output_type": "stream",
          "name": "stdout",
          "text": [
            "0.32095707999997103\n"
          ]
        }
      ],
      "source": [
        "with Timer() as t_pd:\n",
        "    df = pd.read_parquet('https://raw.githubusercontent.com/falawar7/AAI614_ELAWAR/main/Week2/niaaa-report.parquet')\n",
        "print(t_pd.interval)"
      ]
    },
    {
      "cell_type": "markdown",
      "metadata": {
        "id": "AvZT34hXyXXL"
      },
      "source": [
        "#### Read the CSV file and time it"
      ]
    },
    {
      "cell_type": "code",
      "execution_count": 5,
      "metadata": {
        "colab": {
          "base_uri": "https://localhost:8080/"
        },
        "id": "M2dxd98VyXXL",
        "outputId": "fb0f0519-25cc-48d4-f8e6-0c4cf1b4a1b7"
      },
      "outputs": [
        {
          "output_type": "stream",
          "name": "stdout",
          "text": [
            "0.16361254499997813\n"
          ]
        }
      ],
      "source": [
        "with Timer() as t_pd:\n",
        "    df = pd.read_csv('https://raw.githubusercontent.com/falawar7/AAI614_ELAWAR/main/Week2/niaaa-report.csv')\n",
        "print(t_pd.interval)"
      ]
    },
    {
      "cell_type": "markdown",
      "metadata": {
        "id": "b-1DxWBzyXXL"
      },
      "source": [
        "#### Read the ZIP file and time it"
      ]
    },
    {
      "cell_type": "code",
      "execution_count": 6,
      "metadata": {
        "colab": {
          "base_uri": "https://localhost:8080/"
        },
        "id": "C2FF4ge0yXXM",
        "outputId": "84a220c9-7f63-43cd-c52a-5fa6ee261f51"
      },
      "outputs": [
        {
          "output_type": "stream",
          "name": "stdout",
          "text": [
            "0.14394932700008667\n"
          ]
        }
      ],
      "source": [
        "import zipfile\n",
        "with Timer() as t_pd:\n",
        "    df = pd.read_csv('https://raw.githubusercontent.com/falawar7/AAI614_ELAWAR/main/Week2/niaaa-report.zip', compression=\"zip\")\n",
        "print(t_pd.interval)"
      ]
    },
    {
      "cell_type": "markdown",
      "source": [
        "The Best time of Reading was reading form Zip File , Csv was in 2nd place and Parquet came at last ."
      ],
      "metadata": {
        "id": "TvcFs8Xw0Bu3"
      }
    },
    {
      "cell_type": "markdown",
      "metadata": {
        "id": "i3h_r722yXXM"
      },
      "source": []
    }
  ],
  "metadata": {
    "kernelspec": {
      "display_name": "Python 3",
      "language": "python",
      "name": "python3"
    },
    "language_info": {
      "codemirror_mode": {
        "name": "ipython",
        "version": 3
      },
      "file_extension": ".py",
      "mimetype": "text/x-python",
      "name": "python",
      "nbconvert_exporter": "python",
      "pygments_lexer": "ipython3",
      "version": "3.10.11"
    },
    "colab": {
      "provenance": [],
      "include_colab_link": true
    }
  },
  "nbformat": 4,
  "nbformat_minor": 0
}