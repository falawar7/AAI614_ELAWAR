{
  "cells": [
    {
      "cell_type": "markdown",
      "metadata": {
        "id": "view-in-github",
        "colab_type": "text"
      },
      "source": [
        "<a href=\"https://colab.research.google.com/github/falawar7/AAI614_ELAWAR/blob/main/Week%202/FE_Notebook2.1.ipynb\" target=\"_parent\"><img src=\"https://colab.research.google.com/assets/colab-badge.svg\" alt=\"Open In Colab\"/></a>"
      ]
    },
    {
      "cell_type": "markdown",
      "metadata": {
        "id": "tgVLpWfm-9cC"
      },
      "source": [
        "# AAI614: Data Science & its Applications\n",
        "\n",
        "*Notebook 2.1: Practice with Pandas*\n",
        "\n",
        "<a href=\"https://colab.research.google.com/github/harmanani/AAI614/blob/main/Week%202/Notebook2.1.ipynb\" target=\"_parent\"><img src=\"https://colab.research.google.com/assets/colab-badge.svg\" alt=\"Open In Colab\"/></a>\n",
        "\n",
        "*This notebook contains excerpts from the [Pandas in Action](https://www.manning.com/books/pandas-in-action) by Boris Paskhaver.*"
      ]
    },
    {
      "cell_type": "markdown",
      "metadata": {
        "id": "54uM4L46-9cD"
      },
      "source": [
        "### 1. Read the file"
      ]
    },
    {
      "cell_type": "code",
      "execution_count": 4,
      "metadata": {
        "id": "UcJPsleA-9cD"
      },
      "outputs": [],
      "source": [
        "import pandas as pd\n",
        "import numpy as np\n",
        "import ssl\n",
        "\n",
        "ssl._create_default_https_context = ssl._create_unverified_context\n",
        "\n",
        "nba = pd.read_csv(\"https://github.com/falawar7/AAI614_ELAWAR/raw/main/Week2/nba.csv\")"
      ]
    },
    {
      "cell_type": "code",
      "source": [
        "nba.head()"
      ],
      "metadata": {
        "id": "cpDNiXy3Arvt",
        "outputId": "605f96ee-6fc8-4522-f8ac-3550ae78ec37",
        "colab": {
          "base_uri": "https://localhost:8080/",
          "height": 206
        }
      },
      "execution_count": 5,
      "outputs": [
        {
          "output_type": "execute_result",
          "data": {
            "text/plain": [
              "             Name                Team Position Birthday   Salary\n",
              "0    Shake Milton  Philadelphia 76ers       SG  9/26/96  1445697\n",
              "1  Christian Wood     Detroit Pistons       PF  9/27/95  1645357\n",
              "2   PJ Washington   Charlotte Hornets       PF  8/23/98  3831840\n",
              "3    Derrick Rose     Detroit Pistons       PG  10/4/88  7317074\n",
              "4   Marial Shayok  Philadelphia 76ers        G  7/26/95    79568"
            ],
            "text/html": [
              "\n",
              "  <div id=\"df-35e15487-8317-4fb0-8c99-9e2f90e227ee\" class=\"colab-df-container\">\n",
              "    <div>\n",
              "<style scoped>\n",
              "    .dataframe tbody tr th:only-of-type {\n",
              "        vertical-align: middle;\n",
              "    }\n",
              "\n",
              "    .dataframe tbody tr th {\n",
              "        vertical-align: top;\n",
              "    }\n",
              "\n",
              "    .dataframe thead th {\n",
              "        text-align: right;\n",
              "    }\n",
              "</style>\n",
              "<table border=\"1\" class=\"dataframe\">\n",
              "  <thead>\n",
              "    <tr style=\"text-align: right;\">\n",
              "      <th></th>\n",
              "      <th>Name</th>\n",
              "      <th>Team</th>\n",
              "      <th>Position</th>\n",
              "      <th>Birthday</th>\n",
              "      <th>Salary</th>\n",
              "    </tr>\n",
              "  </thead>\n",
              "  <tbody>\n",
              "    <tr>\n",
              "      <th>0</th>\n",
              "      <td>Shake Milton</td>\n",
              "      <td>Philadelphia 76ers</td>\n",
              "      <td>SG</td>\n",
              "      <td>9/26/96</td>\n",
              "      <td>1445697</td>\n",
              "    </tr>\n",
              "    <tr>\n",
              "      <th>1</th>\n",
              "      <td>Christian Wood</td>\n",
              "      <td>Detroit Pistons</td>\n",
              "      <td>PF</td>\n",
              "      <td>9/27/95</td>\n",
              "      <td>1645357</td>\n",
              "    </tr>\n",
              "    <tr>\n",
              "      <th>2</th>\n",
              "      <td>PJ Washington</td>\n",
              "      <td>Charlotte Hornets</td>\n",
              "      <td>PF</td>\n",
              "      <td>8/23/98</td>\n",
              "      <td>3831840</td>\n",
              "    </tr>\n",
              "    <tr>\n",
              "      <th>3</th>\n",
              "      <td>Derrick Rose</td>\n",
              "      <td>Detroit Pistons</td>\n",
              "      <td>PG</td>\n",
              "      <td>10/4/88</td>\n",
              "      <td>7317074</td>\n",
              "    </tr>\n",
              "    <tr>\n",
              "      <th>4</th>\n",
              "      <td>Marial Shayok</td>\n",
              "      <td>Philadelphia 76ers</td>\n",
              "      <td>G</td>\n",
              "      <td>7/26/95</td>\n",
              "      <td>79568</td>\n",
              "    </tr>\n",
              "  </tbody>\n",
              "</table>\n",
              "</div>\n",
              "    <div class=\"colab-df-buttons\">\n",
              "\n",
              "  <div class=\"colab-df-container\">\n",
              "    <button class=\"colab-df-convert\" onclick=\"convertToInteractive('df-35e15487-8317-4fb0-8c99-9e2f90e227ee')\"\n",
              "            title=\"Convert this dataframe to an interactive table.\"\n",
              "            style=\"display:none;\">\n",
              "\n",
              "  <svg xmlns=\"http://www.w3.org/2000/svg\" height=\"24px\" viewBox=\"0 -960 960 960\">\n",
              "    <path d=\"M120-120v-720h720v720H120Zm60-500h600v-160H180v160Zm220 220h160v-160H400v160Zm0 220h160v-160H400v160ZM180-400h160v-160H180v160Zm440 0h160v-160H620v160ZM180-180h160v-160H180v160Zm440 0h160v-160H620v160Z\"/>\n",
              "  </svg>\n",
              "    </button>\n",
              "\n",
              "  <style>\n",
              "    .colab-df-container {\n",
              "      display:flex;\n",
              "      gap: 12px;\n",
              "    }\n",
              "\n",
              "    .colab-df-convert {\n",
              "      background-color: #E8F0FE;\n",
              "      border: none;\n",
              "      border-radius: 50%;\n",
              "      cursor: pointer;\n",
              "      display: none;\n",
              "      fill: #1967D2;\n",
              "      height: 32px;\n",
              "      padding: 0 0 0 0;\n",
              "      width: 32px;\n",
              "    }\n",
              "\n",
              "    .colab-df-convert:hover {\n",
              "      background-color: #E2EBFA;\n",
              "      box-shadow: 0px 1px 2px rgba(60, 64, 67, 0.3), 0px 1px 3px 1px rgba(60, 64, 67, 0.15);\n",
              "      fill: #174EA6;\n",
              "    }\n",
              "\n",
              "    .colab-df-buttons div {\n",
              "      margin-bottom: 4px;\n",
              "    }\n",
              "\n",
              "    [theme=dark] .colab-df-convert {\n",
              "      background-color: #3B4455;\n",
              "      fill: #D2E3FC;\n",
              "    }\n",
              "\n",
              "    [theme=dark] .colab-df-convert:hover {\n",
              "      background-color: #434B5C;\n",
              "      box-shadow: 0px 1px 3px 1px rgba(0, 0, 0, 0.15);\n",
              "      filter: drop-shadow(0px 1px 2px rgba(0, 0, 0, 0.3));\n",
              "      fill: #FFFFFF;\n",
              "    }\n",
              "  </style>\n",
              "\n",
              "    <script>\n",
              "      const buttonEl =\n",
              "        document.querySelector('#df-35e15487-8317-4fb0-8c99-9e2f90e227ee button.colab-df-convert');\n",
              "      buttonEl.style.display =\n",
              "        google.colab.kernel.accessAllowed ? 'block' : 'none';\n",
              "\n",
              "      async function convertToInteractive(key) {\n",
              "        const element = document.querySelector('#df-35e15487-8317-4fb0-8c99-9e2f90e227ee');\n",
              "        const dataTable =\n",
              "          await google.colab.kernel.invokeFunction('convertToInteractive',\n",
              "                                                    [key], {});\n",
              "        if (!dataTable) return;\n",
              "\n",
              "        const docLinkHtml = 'Like what you see? Visit the ' +\n",
              "          '<a target=\"_blank\" href=https://colab.research.google.com/notebooks/data_table.ipynb>data table notebook</a>'\n",
              "          + ' to learn more about interactive tables.';\n",
              "        element.innerHTML = '';\n",
              "        dataTable['output_type'] = 'display_data';\n",
              "        await google.colab.output.renderOutput(dataTable, element);\n",
              "        const docLink = document.createElement('div');\n",
              "        docLink.innerHTML = docLinkHtml;\n",
              "        element.appendChild(docLink);\n",
              "      }\n",
              "    </script>\n",
              "  </div>\n",
              "\n",
              "\n",
              "<div id=\"df-34e25502-b7d9-4501-85ee-13b74181c40d\">\n",
              "  <button class=\"colab-df-quickchart\" onclick=\"quickchart('df-34e25502-b7d9-4501-85ee-13b74181c40d')\"\n",
              "            title=\"Suggest charts\"\n",
              "            style=\"display:none;\">\n",
              "\n",
              "<svg xmlns=\"http://www.w3.org/2000/svg\" height=\"24px\"viewBox=\"0 0 24 24\"\n",
              "     width=\"24px\">\n",
              "    <g>\n",
              "        <path d=\"M19 3H5c-1.1 0-2 .9-2 2v14c0 1.1.9 2 2 2h14c1.1 0 2-.9 2-2V5c0-1.1-.9-2-2-2zM9 17H7v-7h2v7zm4 0h-2V7h2v10zm4 0h-2v-4h2v4z\"/>\n",
              "    </g>\n",
              "</svg>\n",
              "  </button>\n",
              "\n",
              "<style>\n",
              "  .colab-df-quickchart {\n",
              "      --bg-color: #E8F0FE;\n",
              "      --fill-color: #1967D2;\n",
              "      --hover-bg-color: #E2EBFA;\n",
              "      --hover-fill-color: #174EA6;\n",
              "      --disabled-fill-color: #AAA;\n",
              "      --disabled-bg-color: #DDD;\n",
              "  }\n",
              "\n",
              "  [theme=dark] .colab-df-quickchart {\n",
              "      --bg-color: #3B4455;\n",
              "      --fill-color: #D2E3FC;\n",
              "      --hover-bg-color: #434B5C;\n",
              "      --hover-fill-color: #FFFFFF;\n",
              "      --disabled-bg-color: #3B4455;\n",
              "      --disabled-fill-color: #666;\n",
              "  }\n",
              "\n",
              "  .colab-df-quickchart {\n",
              "    background-color: var(--bg-color);\n",
              "    border: none;\n",
              "    border-radius: 50%;\n",
              "    cursor: pointer;\n",
              "    display: none;\n",
              "    fill: var(--fill-color);\n",
              "    height: 32px;\n",
              "    padding: 0;\n",
              "    width: 32px;\n",
              "  }\n",
              "\n",
              "  .colab-df-quickchart:hover {\n",
              "    background-color: var(--hover-bg-color);\n",
              "    box-shadow: 0 1px 2px rgba(60, 64, 67, 0.3), 0 1px 3px 1px rgba(60, 64, 67, 0.15);\n",
              "    fill: var(--button-hover-fill-color);\n",
              "  }\n",
              "\n",
              "  .colab-df-quickchart-complete:disabled,\n",
              "  .colab-df-quickchart-complete:disabled:hover {\n",
              "    background-color: var(--disabled-bg-color);\n",
              "    fill: var(--disabled-fill-color);\n",
              "    box-shadow: none;\n",
              "  }\n",
              "\n",
              "  .colab-df-spinner {\n",
              "    border: 2px solid var(--fill-color);\n",
              "    border-color: transparent;\n",
              "    border-bottom-color: var(--fill-color);\n",
              "    animation:\n",
              "      spin 1s steps(1) infinite;\n",
              "  }\n",
              "\n",
              "  @keyframes spin {\n",
              "    0% {\n",
              "      border-color: transparent;\n",
              "      border-bottom-color: var(--fill-color);\n",
              "      border-left-color: var(--fill-color);\n",
              "    }\n",
              "    20% {\n",
              "      border-color: transparent;\n",
              "      border-left-color: var(--fill-color);\n",
              "      border-top-color: var(--fill-color);\n",
              "    }\n",
              "    30% {\n",
              "      border-color: transparent;\n",
              "      border-left-color: var(--fill-color);\n",
              "      border-top-color: var(--fill-color);\n",
              "      border-right-color: var(--fill-color);\n",
              "    }\n",
              "    40% {\n",
              "      border-color: transparent;\n",
              "      border-right-color: var(--fill-color);\n",
              "      border-top-color: var(--fill-color);\n",
              "    }\n",
              "    60% {\n",
              "      border-color: transparent;\n",
              "      border-right-color: var(--fill-color);\n",
              "    }\n",
              "    80% {\n",
              "      border-color: transparent;\n",
              "      border-right-color: var(--fill-color);\n",
              "      border-bottom-color: var(--fill-color);\n",
              "    }\n",
              "    90% {\n",
              "      border-color: transparent;\n",
              "      border-bottom-color: var(--fill-color);\n",
              "    }\n",
              "  }\n",
              "</style>\n",
              "\n",
              "  <script>\n",
              "    async function quickchart(key) {\n",
              "      const quickchartButtonEl =\n",
              "        document.querySelector('#' + key + ' button');\n",
              "      quickchartButtonEl.disabled = true;  // To prevent multiple clicks.\n",
              "      quickchartButtonEl.classList.add('colab-df-spinner');\n",
              "      try {\n",
              "        const charts = await google.colab.kernel.invokeFunction(\n",
              "            'suggestCharts', [key], {});\n",
              "      } catch (error) {\n",
              "        console.error('Error during call to suggestCharts:', error);\n",
              "      }\n",
              "      quickchartButtonEl.classList.remove('colab-df-spinner');\n",
              "      quickchartButtonEl.classList.add('colab-df-quickchart-complete');\n",
              "    }\n",
              "    (() => {\n",
              "      let quickchartButtonEl =\n",
              "        document.querySelector('#df-34e25502-b7d9-4501-85ee-13b74181c40d button');\n",
              "      quickchartButtonEl.style.display =\n",
              "        google.colab.kernel.accessAllowed ? 'block' : 'none';\n",
              "    })();\n",
              "  </script>\n",
              "</div>\n",
              "\n",
              "    </div>\n",
              "  </div>\n"
            ],
            "application/vnd.google.colaboratory.intrinsic+json": {
              "type": "dataframe",
              "variable_name": "nba",
              "summary": "{\n  \"name\": \"nba\",\n  \"rows\": 450,\n  \"fields\": [\n    {\n      \"column\": \"Name\",\n      \"properties\": {\n        \"dtype\": \"string\",\n        \"num_unique_values\": 450,\n        \"samples\": [\n          \"Michael Kidd-Gilchrist\",\n          \"Melvin Frazier\",\n          \"Devin Booker\"\n        ],\n        \"semantic_type\": \"\",\n        \"description\": \"\"\n      }\n    },\n    {\n      \"column\": \"Team\",\n      \"properties\": {\n        \"dtype\": \"category\",\n        \"num_unique_values\": 30,\n        \"samples\": [\n          \"Minnesota Timberwolves\",\n          \"New Orleans Pelicans\",\n          \"Orlando Magic\"\n        ],\n        \"semantic_type\": \"\",\n        \"description\": \"\"\n      }\n    },\n    {\n      \"column\": \"Position\",\n      \"properties\": {\n        \"dtype\": \"category\",\n        \"num_unique_values\": 9,\n        \"samples\": [\n          \"F\",\n          \"PF\",\n          \"C\"\n        ],\n        \"semantic_type\": \"\",\n        \"description\": \"\"\n      }\n    },\n    {\n      \"column\": \"Birthday\",\n      \"properties\": {\n        \"dtype\": \"object\",\n        \"num_unique_values\": 430,\n        \"samples\": [\n          \"7/10/85\",\n          \"8/12/89\",\n          \"7/12/98\"\n        ],\n        \"semantic_type\": \"\",\n        \"description\": \"\"\n      }\n    },\n    {\n      \"column\": \"Salary\",\n      \"properties\": {\n        \"dtype\": \"number\",\n        \"std\": 9288810,\n        \"min\": 79568,\n        \"max\": 40231758,\n        \"num_unique_values\": 269,\n        \"samples\": [\n          2028594,\n          3581986,\n          27093019\n        ],\n        \"semantic_type\": \"\",\n        \"description\": \"\"\n      }\n    }\n  ]\n}"
            }
          },
          "metadata": {},
          "execution_count": 5
        }
      ]
    },
    {
      "cell_type": "markdown",
      "metadata": {
        "id": "MagDgZZ_-9cD"
      },
      "source": [
        "### 1. Shared and Exclusive Attributes between Series and DataFrames"
      ]
    },
    {
      "cell_type": "code",
      "execution_count": null,
      "metadata": {
        "id": "F5H3trNl-9cD"
      },
      "outputs": [],
      "source": [
        "pd.Series([1, 2, 3]).dtype"
      ]
    },
    {
      "cell_type": "code",
      "execution_count": null,
      "metadata": {
        "id": "PsqgOf_m-9cE"
      },
      "outputs": [],
      "source": [
        "nba.dtypes"
      ]
    },
    {
      "cell_type": "code",
      "execution_count": null,
      "metadata": {
        "id": "miHhkw28-9cE"
      },
      "outputs": [],
      "source": [
        "nba.dtypes.value_counts()"
      ]
    },
    {
      "cell_type": "code",
      "execution_count": null,
      "metadata": {
        "id": "h13rQ1rN-9cE"
      },
      "outputs": [],
      "source": [
        "nba.index"
      ]
    },
    {
      "cell_type": "code",
      "execution_count": null,
      "metadata": {
        "id": "nHbryIqQ-9cE"
      },
      "outputs": [],
      "source": [
        "nba.columns"
      ]
    },
    {
      "cell_type": "code",
      "execution_count": null,
      "metadata": {
        "id": "T2Jvnm5_-9cE"
      },
      "outputs": [],
      "source": [
        "nba.ndim"
      ]
    },
    {
      "cell_type": "code",
      "execution_count": null,
      "metadata": {
        "id": "5725Xfmp-9cE"
      },
      "outputs": [],
      "source": [
        "nba.shape"
      ]
    },
    {
      "cell_type": "code",
      "execution_count": null,
      "metadata": {
        "id": "8LZXFHX7-9cF"
      },
      "outputs": [],
      "source": [
        "nba.size"
      ]
    },
    {
      "cell_type": "code",
      "execution_count": null,
      "metadata": {
        "id": "Sy8c1pFF-9cF"
      },
      "outputs": [],
      "source": [
        "nba.count()"
      ]
    },
    {
      "cell_type": "code",
      "execution_count": null,
      "metadata": {
        "id": "TFRaFx5f-9cF"
      },
      "outputs": [],
      "source": [
        "nba.count().sum()"
      ]
    },
    {
      "cell_type": "code",
      "execution_count": null,
      "metadata": {
        "id": "cnj83Ffo-9cF"
      },
      "outputs": [],
      "source": [
        "data = {\n",
        "    \"A\": [1, np.nan],\n",
        "    \"B\": [2, 3]\n",
        "}\n",
        "\n",
        "df = pd.DataFrame(data)\n",
        "df"
      ]
    },
    {
      "cell_type": "code",
      "execution_count": null,
      "metadata": {
        "id": "vbmZD8xk-9cF"
      },
      "outputs": [],
      "source": [
        "df.size"
      ]
    },
    {
      "cell_type": "code",
      "execution_count": null,
      "metadata": {
        "id": "PPwlyvh7-9cG"
      },
      "outputs": [],
      "source": [
        "df.count()"
      ]
    },
    {
      "cell_type": "code",
      "execution_count": null,
      "metadata": {
        "id": "jiwfYVqI-9cG"
      },
      "outputs": [],
      "source": [
        "df.count().sum()"
      ]
    },
    {
      "cell_type": "markdown",
      "metadata": {
        "id": "MQdb5KNp-9cG"
      },
      "source": [
        "### 2. Shared Methods between Series and DataFrames"
      ]
    },
    {
      "cell_type": "code",
      "execution_count": null,
      "metadata": {
        "id": "wfdQV9fc-9cG"
      },
      "outputs": [],
      "source": [
        "nba.head(2)"
      ]
    },
    {
      "cell_type": "code",
      "execution_count": null,
      "metadata": {
        "id": "06LHkibZ-9cG"
      },
      "outputs": [],
      "source": [
        "nba.tail(n = 3)"
      ]
    },
    {
      "cell_type": "code",
      "execution_count": null,
      "metadata": {
        "id": "Ja9niNeX-9cG"
      },
      "outputs": [],
      "source": [
        "nba.tail()"
      ]
    },
    {
      "cell_type": "code",
      "execution_count": null,
      "metadata": {
        "id": "H2b0rzzX-9cG"
      },
      "outputs": [],
      "source": [
        "nba.sample(3)"
      ]
    },
    {
      "cell_type": "code",
      "execution_count": null,
      "metadata": {
        "id": "1psZNSRa-9cG"
      },
      "outputs": [],
      "source": [
        "nba.nunique()"
      ]
    },
    {
      "cell_type": "code",
      "execution_count": null,
      "metadata": {
        "id": "hiybsGhF-9cG"
      },
      "outputs": [],
      "source": [
        "nba.max()"
      ]
    },
    {
      "cell_type": "code",
      "execution_count": null,
      "metadata": {
        "id": "J1dMUQAb-9cG"
      },
      "outputs": [],
      "source": [
        "nba.min()"
      ]
    },
    {
      "cell_type": "code",
      "execution_count": null,
      "metadata": {
        "id": "XGp2w_6T-9cG"
      },
      "outputs": [],
      "source": [
        "nba.nlargest(n = 4, columns = \"Salary\")"
      ]
    },
    {
      "cell_type": "code",
      "execution_count": null,
      "metadata": {
        "id": "2lYLDn-h-9cG"
      },
      "outputs": [],
      "source": [
        "nba['Birthday'] = pd.to_datetime(nba['Birthday'])"
      ]
    },
    {
      "cell_type": "code",
      "execution_count": null,
      "metadata": {
        "id": "96d1Vn5D-9cG"
      },
      "outputs": [],
      "source": [
        "nba.nsmallest(n = 3, columns = [\"Birthday\"])"
      ]
    },
    {
      "cell_type": "markdown",
      "metadata": {
        "id": "T5u9Qe_m-9cG"
      },
      "source": [
        "#### The following should give an error.  No need to panic :-)"
      ]
    },
    {
      "cell_type": "code",
      "execution_count": null,
      "metadata": {
        "id": "3KPm4Llf-9cG"
      },
      "outputs": [],
      "source": [
        "#nba.sum()"
      ]
    },
    {
      "cell_type": "code",
      "execution_count": null,
      "metadata": {
        "id": "WaizcVjs-9cG"
      },
      "outputs": [],
      "source": [
        "nba.sum(numeric_only = True)"
      ]
    },
    {
      "cell_type": "code",
      "execution_count": null,
      "metadata": {
        "id": "grts7AHx-9cG"
      },
      "outputs": [],
      "source": [
        "nba.mean(numeric_only = True)"
      ]
    },
    {
      "cell_type": "code",
      "execution_count": null,
      "metadata": {
        "id": "6ia1oZnR-9cG"
      },
      "outputs": [],
      "source": [
        "nba.median(numeric_only = True)"
      ]
    },
    {
      "cell_type": "code",
      "execution_count": null,
      "metadata": {
        "id": "B85jqdH6-9cG"
      },
      "outputs": [],
      "source": [
        "nba.mode(numeric_only = True)"
      ]
    },
    {
      "cell_type": "code",
      "execution_count": null,
      "metadata": {
        "id": "F8PkG95P-9cG"
      },
      "outputs": [],
      "source": [
        "nba.std(numeric_only = True)"
      ]
    },
    {
      "cell_type": "markdown",
      "metadata": {
        "id": "dtmrpjmy-9cG"
      },
      "source": [
        "## 3. Sorting a DataFrame"
      ]
    },
    {
      "cell_type": "markdown",
      "metadata": {
        "id": "kCdxvU_4-9cG"
      },
      "source": [
        "### 3.1 Sorting by Single Column"
      ]
    },
    {
      "cell_type": "code",
      "execution_count": null,
      "metadata": {
        "id": "jEUz1uTv-9cH"
      },
      "outputs": [],
      "source": [
        "# The two lines below are equivalent\n",
        "nba.sort_values(\"Name\")\n",
        "nba.sort_values(by = \"Name\")"
      ]
    },
    {
      "cell_type": "code",
      "execution_count": null,
      "metadata": {
        "id": "RSqLaQIO-9cJ"
      },
      "outputs": [],
      "source": [
        "nba.sort_values(\"Name\", ascending = False).head()"
      ]
    },
    {
      "cell_type": "code",
      "execution_count": null,
      "metadata": {
        "id": "OOiXckiJ-9cJ"
      },
      "outputs": [],
      "source": [
        "nba.sort_values(\"Birthday\", ascending = False).head()"
      ]
    },
    {
      "cell_type": "markdown",
      "metadata": {
        "id": "Kc6C3x1A-9cJ"
      },
      "source": [
        "### 4.2 Sorting by Multiple Columns"
      ]
    },
    {
      "cell_type": "code",
      "execution_count": null,
      "metadata": {
        "id": "wzMo3gUq-9cJ"
      },
      "outputs": [],
      "source": [
        "nba.sort_values(by = [\"Team\", \"Name\"])"
      ]
    },
    {
      "cell_type": "code",
      "execution_count": null,
      "metadata": {
        "id": "XDEk5NoC-9cJ"
      },
      "outputs": [],
      "source": [
        "nba.sort_values([\"Team\", \"Name\"], ascending = False)"
      ]
    },
    {
      "cell_type": "code",
      "execution_count": null,
      "metadata": {
        "id": "GW_uoClm-9cJ"
      },
      "outputs": [],
      "source": [
        "nba.sort_values(\n",
        "    by = [\"Team\", \"Salary\"], ascending = [True, False]\n",
        ")"
      ]
    },
    {
      "cell_type": "code",
      "execution_count": null,
      "metadata": {
        "id": "GJ_SvLQt-9cJ"
      },
      "outputs": [],
      "source": [
        "nba = nba.sort_values(\n",
        "    by = [\"Team\", \"Salary\"],\n",
        "    ascending = [True, False]\n",
        ")"
      ]
    },
    {
      "cell_type": "markdown",
      "metadata": {
        "id": "QhC1QCJd-9cJ"
      },
      "source": [
        "## 5 Sorting by Index"
      ]
    },
    {
      "cell_type": "code",
      "execution_count": null,
      "metadata": {
        "id": "vjB_HoJO-9cJ"
      },
      "outputs": [],
      "source": [
        "nba.head()"
      ]
    },
    {
      "cell_type": "markdown",
      "metadata": {
        "id": "sIurPdN5-9cJ"
      },
      "source": [
        "### 5.1 Sorting by Row Index"
      ]
    },
    {
      "cell_type": "code",
      "execution_count": null,
      "metadata": {
        "id": "2P5r5hd7-9cK"
      },
      "outputs": [],
      "source": [
        "# The two lines below are equivalent\n",
        "nba.sort_index().head()\n",
        "nba.sort_index(ascending = True).head()"
      ]
    },
    {
      "cell_type": "code",
      "execution_count": null,
      "metadata": {
        "id": "MKj1c7P9-9cK"
      },
      "outputs": [],
      "source": [
        "nba.sort_index(ascending = False).head()"
      ]
    },
    {
      "cell_type": "code",
      "execution_count": null,
      "metadata": {
        "id": "5wDIR3Vi-9cK"
      },
      "outputs": [],
      "source": [
        "nba = nba.sort_index()"
      ]
    },
    {
      "cell_type": "markdown",
      "metadata": {
        "id": "7f6zz_iJ-9cK"
      },
      "source": [
        "### 5.2 Sorting by Column Index"
      ]
    },
    {
      "cell_type": "code",
      "execution_count": null,
      "metadata": {
        "id": "UJUq-7G1-9cK"
      },
      "outputs": [],
      "source": [
        "# The two lines below are equivalent\n",
        "nba.sort_index(axis = \"columns\").head()\n",
        "nba.sort_index(axis = 1).head()"
      ]
    },
    {
      "cell_type": "code",
      "execution_count": null,
      "metadata": {
        "id": "JSvEoiqq-9cK"
      },
      "outputs": [],
      "source": [
        "nba.sort_index(axis = \"columns\", ascending = False).head()"
      ]
    },
    {
      "cell_type": "markdown",
      "metadata": {
        "id": "kKCD0vdS-9cK"
      },
      "source": [
        "## 5.3 Setting a New Index"
      ]
    },
    {
      "cell_type": "code",
      "execution_count": null,
      "metadata": {
        "id": "pwVoAtTs-9cK"
      },
      "outputs": [],
      "source": [
        "# The two lines below are equivalent\n",
        "nba.set_index(keys = \"Name\")\n",
        "nba.set_index(\"Name\")"
      ]
    },
    {
      "cell_type": "markdown",
      "metadata": {
        "id": "zJiYGKAs-9cK"
      },
      "source": [
        "## 6 Selecting Columns and Rows from a DataFrame"
      ]
    },
    {
      "cell_type": "markdown",
      "metadata": {
        "id": "NN8GdIdR-9cK"
      },
      "source": [
        "### 6.1 Selecting a Single Column from a DataFrame"
      ]
    },
    {
      "cell_type": "code",
      "execution_count": null,
      "metadata": {
        "id": "w0k3frf3-9cK"
      },
      "outputs": [],
      "source": [
        "nba.Salary"
      ]
    },
    {
      "cell_type": "code",
      "execution_count": null,
      "metadata": {
        "id": "nui4rbz8-9cK"
      },
      "outputs": [],
      "source": [
        "nba[\"Position\"]"
      ]
    },
    {
      "cell_type": "markdown",
      "metadata": {
        "id": "QElRSjnA-9cK"
      },
      "source": [
        "### 6.2 Selecting Multiple Columns from a DataFrame"
      ]
    },
    {
      "cell_type": "code",
      "execution_count": null,
      "metadata": {
        "scrolled": true,
        "id": "XikeS-uT-9cK"
      },
      "outputs": [],
      "source": [
        "nba[[\"Salary\", \"Birthday\"]].head()"
      ]
    },
    {
      "cell_type": "code",
      "execution_count": null,
      "metadata": {
        "id": "qLr2LCc1-9cK"
      },
      "outputs": [],
      "source": [
        "nba[[\"Birthday\", \"Salary\"]].head()"
      ]
    },
    {
      "cell_type": "code",
      "execution_count": null,
      "metadata": {
        "id": "PXEnvDLS-9cK"
      },
      "outputs": [],
      "source": [
        "nba.select_dtypes(include = \"object\")"
      ]
    },
    {
      "cell_type": "code",
      "execution_count": null,
      "metadata": {
        "id": "bPRIS52n-9cK"
      },
      "outputs": [],
      "source": [
        "nba.select_dtypes(exclude = [\"object\", \"int\"])"
      ]
    },
    {
      "cell_type": "markdown",
      "metadata": {
        "id": "ttzYWK_x-9cK"
      },
      "source": [
        "## 7 Selecting Rows from a DataFrame"
      ]
    },
    {
      "cell_type": "markdown",
      "metadata": {
        "id": "7ApayfbH-9cL"
      },
      "source": [
        "### 7.1 Extracting Rows by Index Label"
      ]
    },
    {
      "cell_type": "code",
      "execution_count": null,
      "metadata": {
        "id": "AzwF4sdm-9cL"
      },
      "outputs": [],
      "source": [
        "nba"
      ]
    },
    {
      "cell_type": "code",
      "execution_count": null,
      "metadata": {
        "id": "z_r2se3e-9cL"
      },
      "outputs": [],
      "source": [
        "nba.index = nba[\"Name\"]"
      ]
    },
    {
      "cell_type": "code",
      "execution_count": null,
      "metadata": {
        "id": "I8EOLR3t-9cL"
      },
      "outputs": [],
      "source": [
        "nba.loc[\"LeBron James\"]"
      ]
    },
    {
      "cell_type": "code",
      "execution_count": null,
      "metadata": {
        "id": "WkfIyLfv-9cL"
      },
      "outputs": [],
      "source": [
        "nba.loc[[\"Kawhi Leonard\", \"Paul George\"]]"
      ]
    },
    {
      "cell_type": "code",
      "execution_count": null,
      "metadata": {
        "id": "Ps_V3JRD-9cL"
      },
      "outputs": [],
      "source": [
        "nba.loc[[\"Paul George\", \"Kawhi Leonard\"]]"
      ]
    },
    {
      "cell_type": "code",
      "execution_count": null,
      "metadata": {
        "id": "3Ku7cTUi-9cL"
      },
      "outputs": [],
      "source": [
        "nba.sort_index().loc[\"Otto Porter\":\"Patrick Beverley\"]"
      ]
    },
    {
      "cell_type": "code",
      "execution_count": null,
      "metadata": {
        "id": "7RAG2eAm-9cL"
      },
      "outputs": [],
      "source": [
        "players = [\"Otto Porter\", \"PJ Dozier\", \"PJ Washington\"]\n",
        "players[0:2]"
      ]
    },
    {
      "cell_type": "code",
      "execution_count": null,
      "metadata": {
        "id": "1VamZ_TH-9cL"
      },
      "outputs": [],
      "source": [
        "nba.sort_index().loc[\"Zach Collins\":]"
      ]
    },
    {
      "cell_type": "code",
      "execution_count": null,
      "metadata": {
        "id": "sy3Q5s4v-9cL"
      },
      "outputs": [],
      "source": [
        "nba.sort_index().loc[:\"Al Horford\"]"
      ]
    },
    {
      "cell_type": "markdown",
      "metadata": {
        "id": "wpozoqnH-9cL"
      },
      "source": [
        "**NOTE**: I've commented out the code below so that the Notebook can run without raising an error."
      ]
    },
    {
      "cell_type": "code",
      "execution_count": null,
      "metadata": {
        "id": "n8POSblo-9cL"
      },
      "outputs": [],
      "source": [
        "#nba.loc[\"Bugs Bunny\"]"
      ]
    },
    {
      "cell_type": "markdown",
      "metadata": {
        "id": "9NTT8GMQ-9cL"
      },
      "source": [
        "### 7.2 Extracting Rows by Index Position"
      ]
    },
    {
      "cell_type": "code",
      "execution_count": null,
      "metadata": {
        "id": "rnlfiP3x-9cL"
      },
      "outputs": [],
      "source": [
        "nba.iloc[300]"
      ]
    },
    {
      "cell_type": "code",
      "execution_count": null,
      "metadata": {
        "id": "jhusu6i0-9cL"
      },
      "outputs": [],
      "source": [
        "nba.iloc[[100, 200, 300, 400]]"
      ]
    },
    {
      "cell_type": "code",
      "execution_count": null,
      "metadata": {
        "id": "OID-qo9R-9cL"
      },
      "outputs": [],
      "source": [
        "nba.iloc[400:404]"
      ]
    },
    {
      "cell_type": "code",
      "execution_count": null,
      "metadata": {
        "id": "5dNP8wO3-9cL"
      },
      "outputs": [],
      "source": [
        "nba.iloc[:2]"
      ]
    },
    {
      "cell_type": "code",
      "execution_count": null,
      "metadata": {
        "id": "656AnJGE-9cL"
      },
      "outputs": [],
      "source": [
        "nba.iloc[447:]"
      ]
    },
    {
      "cell_type": "code",
      "execution_count": null,
      "metadata": {
        "id": "Np5nXg-u-9cM"
      },
      "outputs": [],
      "source": [
        "nba.iloc[-10:-6]"
      ]
    },
    {
      "cell_type": "code",
      "execution_count": null,
      "metadata": {
        "id": "u8cHi_Jz-9cM"
      },
      "outputs": [],
      "source": [
        "nba.iloc[0:10:2]"
      ]
    },
    {
      "cell_type": "markdown",
      "metadata": {
        "id": "KacRHpT8-9cM"
      },
      "source": [
        "### 7.3 Extracting Values from Specific Columns"
      ]
    },
    {
      "cell_type": "code",
      "execution_count": null,
      "metadata": {
        "id": "bG3OAoy8-9cM"
      },
      "outputs": [],
      "source": [
        "nba['Team'].loc[\"Giannis Antetokounmpo\"]"
      ]
    },
    {
      "cell_type": "code",
      "execution_count": null,
      "metadata": {
        "id": "286bwMT7-9cM"
      },
      "outputs": [],
      "source": [
        "nba.loc[\"James Harden\", [\"Position\", \"Birthday\"]]"
      ]
    },
    {
      "cell_type": "code",
      "execution_count": null,
      "metadata": {
        "id": "39OhJbMF-9cM"
      },
      "outputs": [],
      "source": [
        "nba.loc[\n",
        "    [\"Russell Westbrook\", \"Anthony Davis\"],\n",
        "    [\"Team\", \"Salary\"]\n",
        "]"
      ]
    },
    {
      "cell_type": "code",
      "execution_count": null,
      "metadata": {
        "id": "1lEIL_-C-9cM"
      },
      "outputs": [],
      "source": [
        "nba.loc[\"Joel Embiid\", \"Position\":\"Salary\"]"
      ]
    },
    {
      "cell_type": "code",
      "execution_count": null,
      "metadata": {
        "id": "ATJ8_ZZ_-9cM"
      },
      "outputs": [],
      "source": [
        "nba.loc[\"Joel Embiid\", \"Salary\":\"Position\"]"
      ]
    },
    {
      "cell_type": "code",
      "execution_count": null,
      "metadata": {
        "id": "cv02vllj-9cM"
      },
      "outputs": [],
      "source": [
        "nba.iloc[57, 3]"
      ]
    },
    {
      "cell_type": "code",
      "execution_count": null,
      "metadata": {
        "id": "oFdbSSuy-9cM"
      },
      "outputs": [],
      "source": [
        "nba.iloc[100:104, :3]"
      ]
    },
    {
      "cell_type": "code",
      "execution_count": null,
      "metadata": {
        "id": "JDWqnv8Z-9cM"
      },
      "outputs": [],
      "source": [
        "nba.at[\"Austin Rivers\", \"Birthday\"]"
      ]
    },
    {
      "cell_type": "code",
      "execution_count": null,
      "metadata": {
        "id": "cXySg18f-9cM"
      },
      "outputs": [],
      "source": [
        "nba.iat[263, 1]"
      ]
    },
    {
      "cell_type": "code",
      "execution_count": null,
      "metadata": {
        "id": "SlNI0uff-9cM"
      },
      "outputs": [],
      "source": [
        "%%timeit\n",
        "nba.at[\"Austin Rivers\", \"Birthday\"]"
      ]
    },
    {
      "cell_type": "code",
      "execution_count": null,
      "metadata": {
        "id": "N6qtzdfy-9cM"
      },
      "outputs": [],
      "source": [
        "%%timeit\n",
        "nba.loc[\"Austin Rivers\", \"Birthday\"]"
      ]
    },
    {
      "cell_type": "code",
      "execution_count": null,
      "metadata": {
        "id": "2oVBr-mK-9cM"
      },
      "outputs": [],
      "source": [
        "%%timeit\n",
        "nba.iat[263, 1]"
      ]
    },
    {
      "cell_type": "code",
      "execution_count": null,
      "metadata": {
        "id": "w6VmcjSG-9cM"
      },
      "outputs": [],
      "source": [
        "%%timeit\n",
        "nba.iloc[263, 1]"
      ]
    },
    {
      "cell_type": "markdown",
      "metadata": {
        "id": "BWFb0YlJ-9cM"
      },
      "source": [
        "## 8 Extracting Values from Series"
      ]
    },
    {
      "cell_type": "code",
      "execution_count": null,
      "metadata": {
        "id": "3ocAoQTX-9cM"
      },
      "outputs": [],
      "source": [
        "nba[\"Salary\"].loc[\"Damian Lillard\"]"
      ]
    },
    {
      "cell_type": "code",
      "execution_count": null,
      "metadata": {
        "id": "rMIFvDnC-9cM"
      },
      "outputs": [],
      "source": [
        "nba[\"Salary\"].at[\"Damian Lillard\"]"
      ]
    },
    {
      "cell_type": "code",
      "execution_count": null,
      "metadata": {
        "id": "JgQ-CfgE-9cM"
      },
      "outputs": [],
      "source": [
        "nba[\"Salary\"].iloc[234]"
      ]
    },
    {
      "cell_type": "code",
      "execution_count": null,
      "metadata": {
        "id": "cHdVAsDw-9cN"
      },
      "outputs": [],
      "source": [
        "nba[\"Salary\"].iat[234]"
      ]
    },
    {
      "cell_type": "markdown",
      "metadata": {
        "id": "SmoPCcPE-9cN"
      },
      "source": [
        "## 9 Renaming Columns or Rows"
      ]
    },
    {
      "cell_type": "code",
      "execution_count": null,
      "metadata": {
        "id": "y5DYsuzS-9cN"
      },
      "outputs": [],
      "source": [
        "nba.columns"
      ]
    },
    {
      "cell_type": "code",
      "execution_count": null,
      "metadata": {
        "id": "qWeZbSRG-9cN"
      },
      "outputs": [],
      "source": [
        "nba.columns = [\"Team\", \"Position\", \"Date of Birth\", \"Pay\"]\n",
        "nba.head(1)"
      ]
    },
    {
      "cell_type": "code",
      "execution_count": null,
      "metadata": {
        "id": "gD3a0q1H-9cN"
      },
      "outputs": [],
      "source": [
        "nba.rename(columns = { \"Date of Birth\": \"Birthday\" })"
      ]
    },
    {
      "cell_type": "code",
      "execution_count": null,
      "metadata": {
        "id": "zM2GGIw6-9cN"
      },
      "outputs": [],
      "source": [
        "nba = nba.rename(columns = { \"Date of Birth\": \"Birthday\" })"
      ]
    },
    {
      "cell_type": "code",
      "execution_count": null,
      "metadata": {
        "id": "8lZfErTa-9cN"
      },
      "outputs": [],
      "source": [
        "nba.loc[\"Giannis Antetokounmpo\"]"
      ]
    },
    {
      "cell_type": "code",
      "execution_count": null,
      "metadata": {
        "id": "siGYfi6b-9cN"
      },
      "outputs": [],
      "source": [
        "nba = nba.rename(\n",
        "    index = { \"Giannis Antetokounmpo\": \"Greek Freak\" }\n",
        ")"
      ]
    },
    {
      "cell_type": "code",
      "execution_count": null,
      "metadata": {
        "id": "WP-DNiUj-9cN"
      },
      "outputs": [],
      "source": [
        "nba.loc[\"Greek Freak\"]"
      ]
    },
    {
      "cell_type": "markdown",
      "metadata": {
        "id": "SG1xzKrq-9cN"
      },
      "source": [
        "## 10 Resetting an Index"
      ]
    },
    {
      "cell_type": "code",
      "execution_count": null,
      "metadata": {
        "id": "Lq3PetPA-9cN"
      },
      "outputs": [],
      "source": [
        "nba.set_index(\"Team\").head()"
      ]
    },
    {
      "cell_type": "code",
      "execution_count": null,
      "metadata": {
        "id": "kVuubgOk-9cN"
      },
      "outputs": [],
      "source": [
        "nba.reset_index().head()"
      ]
    },
    {
      "cell_type": "code",
      "execution_count": null,
      "metadata": {
        "id": "aNPujpqG-9cN"
      },
      "outputs": [],
      "source": [
        "nba.reset_index().set_index(\"Team\").head()"
      ]
    },
    {
      "cell_type": "code",
      "execution_count": null,
      "metadata": {
        "id": "MEW729RI-9cN"
      },
      "outputs": [],
      "source": [
        "nba = nba.reset_index().set_index(\"Team\")"
      ]
    }
  ],
  "metadata": {
    "kernelspec": {
      "display_name": "Python 3",
      "language": "python",
      "name": "python3"
    },
    "language_info": {
      "codemirror_mode": {
        "name": "ipython",
        "version": 3
      },
      "file_extension": ".py",
      "mimetype": "text/x-python",
      "name": "python",
      "nbconvert_exporter": "python",
      "pygments_lexer": "ipython3",
      "version": "3.10.11"
    },
    "colab": {
      "provenance": [],
      "include_colab_link": true
    }
  },
  "nbformat": 4,
  "nbformat_minor": 0
}