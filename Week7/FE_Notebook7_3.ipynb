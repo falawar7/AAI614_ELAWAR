{
  "cells": [
    {
      "cell_type": "markdown",
      "metadata": {
        "id": "view-in-github",
        "colab_type": "text"
      },
      "source": [
        "<a href=\"https://colab.research.google.com/github/falawar7/AAI614_ELAWAR/blob/main/Week7/FE_Notebook7_3.ipynb\" target=\"_parent\"><img src=\"https://colab.research.google.com/assets/colab-badge.svg\" alt=\"Open In Colab\"/></a>"
      ]
    },
    {
      "cell_type": "markdown",
      "metadata": {
        "id": "UbdAMquUcTsC"
      },
      "source": [
        "# AAI614: Data Science & its Applications\n",
        "\n",
        "*Notebook 7.3: Dask-ML*\n",
        "\n",
        "Source: Data Science with Python and Dask"
      ]
    },
    {
      "cell_type": "code",
      "execution_count": 1,
      "metadata": {
        "colab": {
          "base_uri": "https://localhost:8080/"
        },
        "id": "NBOoyZcqcms7",
        "outputId": "28b89b88-b9d7-4bb3-e89d-7bcb7fe00bd9"
      },
      "outputs": [
        {
          "output_type": "stream",
          "name": "stdout",
          "text": [
            "Mounted at /content/drive\n"
          ]
        }
      ],
      "source": [
        "from google.colab import drive\n",
        "drive.mount('/content/drive')"
      ]
    },
    {
      "cell_type": "code",
      "execution_count": null,
      "metadata": {
        "colab": {
          "base_uri": "https://localhost:8080/"
        },
        "id": "kKB7PeVCdm9D",
        "outputId": "ceb98616-2823-45ee-db16-49a485671eb4"
      },
      "outputs": [
        {
          "name": "stdout",
          "output_type": "stream",
          "text": [
            "--2024-12-09 22:07:50--  https://snap.stanford.edu/data/finefoods.txt.gz\n",
            "Resolving snap.stanford.edu (snap.stanford.edu)... 171.64.75.80\n",
            "Connecting to snap.stanford.edu (snap.stanford.edu)|171.64.75.80|:443... connected.\n",
            "HTTP request sent, awaiting response... 200 OK\n",
            "Length: 122104202 (116M) [application/x-gzip]\n",
            "Saving to: ‘finefoods.txt.gz’\n",
            "\n",
            "finefoods.txt.gz    100%[===================>] 116.45M  36.2MB/s    in 4.7s    \n",
            "\n",
            "2024-12-09 22:07:55 (24.5 MB/s) - ‘finefoods.txt.gz’ saved [122104202/122104202]\n",
            "\n",
            "--2024-12-09 22:07:55--  http://sample_data/food\n",
            "Resolving sample_data (sample_data)... failed: Name or service not known.\n",
            "wget: unable to resolve host address ‘sample_data’\n",
            "FINISHED --2024-12-09 22:07:55--\n",
            "Total wall clock time: 5.1s\n",
            "Downloaded: 1 files, 116M in 4.7s (24.5 MB/s)\n"
          ]
        }
      ],
      "source": [
        "!wget https://snap.stanford.edu/data/finefoods.txt.gz sample_data/food"
      ]
    },
    {
      "cell_type": "code",
      "execution_count": null,
      "metadata": {
        "id": "AXIoKnc3d0Vi"
      },
      "outputs": [],
      "source": [
        "import gzip\n",
        "\n",
        "with gzip.open('finefoods.txt.gz', 'rb') as f_in, open('finefoods.txt', 'wb') as f_out:\n",
        "    f_out.write(f_in.read())"
      ]
    },
    {
      "cell_type": "code",
      "execution_count": null,
      "metadata": {
        "colab": {
          "base_uri": "https://localhost:8080/"
        },
        "id": "hOg1I7cieBbL",
        "outputId": "ffa0eb8b-524f-4ff1-add0-9e81c8713e8f"
      },
      "outputs": [
        {
          "name": "stdout",
          "output_type": "stream",
          "text": [
            "    product/productId: B001E4KFG0\n",
            "0   review/userId: A3SGXH7AUHU8GW\n",
            "1  review/profileName: delmartian\n",
            "2         review/helpfulness: 1/1\n",
            "3               review/score: 5.0\n",
            "4         review/time: 1303862400\n"
          ]
        }
      ],
      "source": [
        "import pandas as pd\n",
        "\n",
        "# Read the tab-separated data, specifying the encoding\n",
        "# or 'cp1252\n",
        "df = pd.read_csv('/content/finefoods.txt.gz', sep='\\t', encoding='latin-1') '\n",
        "\n",
        "# Display the first few rows\n",
        "print(df.head())"
      ]
    },
    {
      "cell_type": "code",
      "execution_count": 3,
      "metadata": {
        "colab": {
          "base_uri": "https://localhost:8080/",
          "height": 166
        },
        "id": "S-ZViZuCecoN",
        "outputId": "a62b7e51-c7e7-4d5f-a38b-d4dafd47e2d5"
      },
      "outputs": [
        {
          "output_type": "error",
          "ename": "NameError",
          "evalue": "name 'bag' is not defined",
          "traceback": [
            "\u001b[0;31m---------------------------------------------------------------------------\u001b[0m",
            "\u001b[0;31mNameError\u001b[0m                                 Traceback (most recent call last)",
            "\u001b[0;32m<ipython-input-3-96454d4d7c0c>\u001b[0m in \u001b[0;36m<cell line: 1>\u001b[0;34m()\u001b[0m\n\u001b[0;32m----> 1\u001b[0;31m \u001b[0mraw_data\u001b[0m \u001b[0;34m=\u001b[0m \u001b[0mbag\u001b[0m\u001b[0;34m.\u001b[0m\u001b[0mread_text\u001b[0m\u001b[0;34m(\u001b[0m\u001b[0;34m'/content/drive/Othercomputers/THINKPAD-T14/AI/Data_Science/Week7/finefoods.txt.gz'\u001b[0m\u001b[0;34m)\u001b[0m\u001b[0;34m\u001b[0m\u001b[0;34m\u001b[0m\u001b[0m\n\u001b[0m\u001b[1;32m      2\u001b[0m \u001b[0mprint\u001b[0m\u001b[0;34m(\u001b[0m\u001b[0mraw_data\u001b[0m\u001b[0;34m.\u001b[0m\u001b[0mtake\u001b[0m\u001b[0;34m(\u001b[0m\u001b[0;36m5\u001b[0m\u001b[0;34m)\u001b[0m\u001b[0;34m)\u001b[0m\u001b[0;34m\u001b[0m\u001b[0;34m\u001b[0m\u001b[0m\n",
            "\u001b[0;31mNameError\u001b[0m: name 'bag' is not defined"
          ]
        }
      ],
      "source": [
        "raw_data = bag.read_text('/content/drive/Othercomputers/THINKPAD-T14/AI/Data_Science/Week7/finefoods.txt.gz')\n",
        "print(raw_data.take(5))"
      ]
    },
    {
      "cell_type": "code",
      "execution_count": 2,
      "metadata": {
        "colab": {
          "base_uri": "https://localhost:8080/"
        },
        "id": "KnQJI_WEiJyZ",
        "outputId": "f530153a-b8fd-471a-cf75-56776f2fb407"
      },
      "outputs": [
        {
          "output_type": "stream",
          "name": "stdout",
          "text": [
            "Requirement already satisfied: dask in /usr/local/lib/python3.10/dist-packages (2024.12.0)\n",
            "Requirement already satisfied: click>=8.1 in /usr/local/lib/python3.10/dist-packages (from dask) (8.1.7)\n",
            "Requirement already satisfied: cloudpickle>=3.0.0 in /usr/local/lib/python3.10/dist-packages (from dask) (3.1.0)\n",
            "Requirement already satisfied: fsspec>=2021.09.0 in /usr/local/lib/python3.10/dist-packages (from dask) (2024.10.0)\n",
            "Requirement already satisfied: packaging>=20.0 in /usr/local/lib/python3.10/dist-packages (from dask) (24.2)\n",
            "Requirement already satisfied: partd>=1.4.0 in /usr/local/lib/python3.10/dist-packages (from dask) (1.4.2)\n",
            "Requirement already satisfied: pyyaml>=5.3.1 in /usr/local/lib/python3.10/dist-packages (from dask) (6.0.2)\n",
            "Requirement already satisfied: toolz>=0.10.0 in /usr/local/lib/python3.10/dist-packages (from dask) (1.0.0)\n",
            "Requirement already satisfied: importlib_metadata>=4.13.0 in /usr/local/lib/python3.10/dist-packages (from dask) (8.5.0)\n",
            "Requirement already satisfied: zipp>=3.20 in /usr/local/lib/python3.10/dist-packages (from importlib_metadata>=4.13.0->dask) (3.21.0)\n",
            "Requirement already satisfied: locket in /usr/local/lib/python3.10/dist-packages (from partd>=1.4.0->dask) (1.0.0)\n"
          ]
        }
      ],
      "source": [
        "!pip install dask"
      ]
    },
    {
      "cell_type": "code",
      "execution_count": 4,
      "metadata": {
        "id": "xtrzg5TPcTsD"
      },
      "outputs": [],
      "source": [
        "import dask.bag as bag\n",
        "import os\n",
        "from dask.diagnostics import ProgressBar\n",
        "\n",
        "# Get the foods dataset from https://snap.stanford.edu/data/web-FineFoods.html\n",
        "raw_data = bag.read_text('/content/drive/Othercomputers/THINKPAD-T14/AI/Data_Science/Week7/finefoods.txt')\n",
        "\n",
        "def get_next_part(file, start_index, span_index=0, blocksize=1024):\n",
        "    file.seek(start_index)\n",
        "    buffer = file.read(blocksize + span_index).decode('cp1252')\n",
        "    delimiter_position = buffer.find('\\n\\n')\n",
        "    if delimiter_position == -1:\n",
        "        return get_next_part(file, start_index, span_index + blocksize)\n",
        "    else:\n",
        "        file.seek(start_index)\n",
        "        return start_index, delimiter_position\n",
        "\n",
        "def get_item(filename, start_index, delimiter_position, encoding='cp1252'):\n",
        "    with open(filename, 'rb') as file_handle:\n",
        "        file_handle.seek(start_index)\n",
        "        text = file_handle.read(delimiter_position).decode(encoding)\n",
        "        elements = text.strip().split('\\n')\n",
        "        key_value_pairs = [(element.split(': ')[0], element.split(': ')[1])\n",
        "                               if len(element.split(': ')) > 1\n",
        "                               else ('unknown', element)\n",
        "                               for element in elements]\n",
        "        return dict(key_value_pairs)\n",
        "\n",
        "with open('/content/drive/Othercomputers/THINKPAD-T14/AI/Data_Science/Week7/finefoods.txt', 'rb') as file_handle:\n",
        "    size = file_handle.seek(0,2) - 1\n",
        "    more_data = True\n",
        "    output = []\n",
        "    current_position = next_position = 0\n",
        "    while more_data:\n",
        "        if current_position >= size:\n",
        "            more_data = False\n",
        "        else:\n",
        "            current_position, next_position = get_next_part(file_handle, current_position, 0)\n",
        "            output.append((current_position, next_position))\n",
        "            current_position = current_position + next_position + 2\n",
        "\n",
        "reviews = bag.from_sequence(output).map(lambda x: get_item('/content/drive/Othercomputers/THINKPAD-T14/AI/Data_Science/Week7/finefoods.txt', x[0], x[1]))\n",
        "\n",
        "def tag_positive_negative_by_score(element):\n",
        "    if float(element['review/score']) > 3:\n",
        "        element['review/sentiment'] = 'positive'\n",
        "    else:\n",
        "        element['review/sentiment'] = 'negative'\n",
        "    return element\n",
        "\n",
        "tagged_reviews = reviews.map(tag_positive_negative_by_score)"
      ]
    },
    {
      "cell_type": "code",
      "execution_count": 5,
      "metadata": {
        "colab": {
          "base_uri": "https://localhost:8080/"
        },
        "id": "RS2iEa7uhEXn",
        "outputId": "a7c658b5-4f75-46e4-9c23-d92084933e0e"
      },
      "outputs": [
        {
          "output_type": "stream",
          "name": "stdout",
          "text": [
            "Requirement already satisfied: nltk in /usr/local/lib/python3.10/dist-packages (3.9.1)\n",
            "Requirement already satisfied: click in /usr/local/lib/python3.10/dist-packages (from nltk) (8.1.7)\n",
            "Requirement already satisfied: joblib in /usr/local/lib/python3.10/dist-packages (from nltk) (1.4.2)\n",
            "Requirement already satisfied: regex>=2021.8.3 in /usr/local/lib/python3.10/dist-packages (from nltk) (2024.11.6)\n",
            "Requirement already satisfied: tqdm in /usr/local/lib/python3.10/dist-packages (from nltk) (4.66.6)\n"
          ]
        }
      ],
      "source": [
        "!pip install nltk"
      ]
    },
    {
      "cell_type": "code",
      "execution_count": 6,
      "metadata": {
        "colab": {
          "base_uri": "https://localhost:8080/"
        },
        "id": "H8A58DrJcTsE",
        "outputId": "b7acdaa6-dcd3-4cf2-ff2d-a2d3e0a1f785"
      },
      "outputs": [
        {
          "output_type": "stream",
          "name": "stderr",
          "text": [
            "[nltk_data] Downloading package stopwords to /root/nltk_data...\n",
            "[nltk_data]   Unzipping corpora/stopwords.zip.\n"
          ]
        }
      ],
      "source": [
        "import nltk\n",
        "from nltk.corpus import stopwords\n",
        "from nltk.tokenize import RegexpTokenizer\n",
        "from functools import partial\n",
        "\n",
        "#Added stopwards\n",
        "nltk.download('stopwords')\n",
        "\n",
        "tokenizer = RegexpTokenizer(r'\\w+')\n",
        "\n",
        "def extract_reviews(element):\n",
        "    element['review/tokens'] = element['review/text'].lower()\n",
        "    return element\n",
        "\n",
        "def tokenize_reviews(element):\n",
        "    element['review/tokens'] = tokenizer.tokenize(element['review/tokens'])\n",
        "    return element\n",
        "\n",
        "def filter_stopword(word, stopwords):\n",
        "    return word not in stopwords\n",
        "\n",
        "def filter_stopwords(element, stopwords):\n",
        "    element['review/tokens'] = list(filter(partial(filter_stopword, stopwords=stopwords), element['review/tokens']))\n",
        "    return element\n",
        "\n",
        "stopword_set = set(stopwords.words('english'))\n",
        "more_stopwords = {'br', 'amazon', 'com', 'http', 'www', 'href', 'gp'}\n",
        "all_stopwords = stopword_set.union(more_stopwords)\n",
        "\n",
        "review_extracted_text = tagged_reviews.map(extract_reviews)\n",
        "review_tokens = review_extracted_text.map(tokenize_reviews)\n",
        "review_text_clean = review_tokens.map(partial(filter_stopwords, stopwords=all_stopwords))"
      ]
    },
    {
      "cell_type": "code",
      "execution_count": 7,
      "metadata": {
        "colab": {
          "base_uri": "https://localhost:8080/"
        },
        "id": "Q5aOy8IRcTsF",
        "outputId": "2598235b-7656-4075-c418-5d2f0d69dba8"
      },
      "outputs": [
        {
          "output_type": "stream",
          "name": "stdout",
          "text": [
            "[########################################] | 100% Completed | 501.70 s\n"
          ]
        },
        {
          "output_type": "execute_result",
          "data": {
            "text/plain": [
              "114290"
            ]
          },
          "metadata": {},
          "execution_count": 7
        }
      ],
      "source": [
        "def extract_tokens(element):\n",
        "    return element['review/tokens']\n",
        "\n",
        "extracted_tokens = review_text_clean.map(extract_tokens)\n",
        "unique_tokens = extracted_tokens.flatten().distinct()\n",
        "\n",
        "with ProgressBar():\n",
        "    number_of_tokens = unique_tokens.count().compute()\n",
        "number_of_tokens"
      ]
    },
    {
      "cell_type": "code",
      "execution_count": 9,
      "metadata": {
        "id": "jm2LIXfycTsF",
        "outputId": "3175aba9-8e4e-4f69-eb89-8899be0020da",
        "colab": {
          "base_uri": "https://localhost:8080/"
        }
      },
      "outputs": [
        {
          "output_type": "stream",
          "name": "stdout",
          "text": [
            "[########################################] | 100% Completed | 505.43 s\n"
          ]
        }
      ],
      "source": [
        "# Listing 10.4\n",
        "def count(accumulator, element):\n",
        "    return accumulator + 1\n",
        "\n",
        "def combine(total_1, total_2):\n",
        "    return total_1 + total_2\n",
        "\n",
        "with ProgressBar():\n",
        "    token_counts = extracted_tokens.flatten().foldby(lambda x: x, count, 0, combine, 0).compute()\n",
        "\n",
        "top_tokens = sorted(token_counts, key=lambda x: x[1], reverse=True)\n",
        "top_100_tokens = list(map(lambda x: x[0], top_tokens[:100]))"
      ]
    },
    {
      "cell_type": "code",
      "execution_count": 10,
      "metadata": {
        "id": "6mnOzNvfcTsF",
        "outputId": "7e4c400b-1d36-446d-eadc-1a7a3925da56",
        "scrolled": false,
        "colab": {
          "base_uri": "https://localhost:8080/"
        }
      },
      "outputs": [
        {
          "output_type": "execute_result",
          "data": {
            "text/plain": [
              "({'target': 1,\n",
              "  'features': array([1, 1, 0, 0, 0, 0, 1, 0, 0, 0, 1, 0, 0, 0, 0, 0, 0, 0, 0, 0, 0, 0,\n",
              "         0, 0, 0, 0, 0, 1, 1, 0, 0, 0, 0, 0, 0, 0, 0, 0, 1, 0, 0, 1, 0, 0,\n",
              "         0, 0, 0, 0, 0, 0, 0, 0, 0, 0, 0, 0, 0, 0, 0, 0, 0, 0, 0, 0, 0, 0,\n",
              "         0, 0, 0, 0, 0, 0, 0, 0, 0, 0, 0, 0, 0, 0, 0, 0, 0, 0, 0, 0, 0, 0,\n",
              "         0, 0, 0, 1, 0, 0, 0, 0, 0, 0, 0, 0])},\n",
              " {'target': 0,\n",
              "  'features': array([0, 0, 0, 0, 0, 0, 1, 0, 0, 0, 0, 0, 0, 0, 0, 0, 0, 0, 0, 0, 0, 0,\n",
              "         0, 0, 0, 0, 0, 0, 0, 0, 0, 0, 0, 0, 0, 0, 0, 0, 0, 0, 0, 0, 0, 0,\n",
              "         0, 0, 0, 0, 0, 0, 0, 0, 0, 0, 0, 0, 0, 0, 0, 0, 0, 0, 0, 0, 0, 0,\n",
              "         0, 0, 0, 0, 0, 0, 0, 0, 0, 0, 0, 0, 0, 0, 0, 0, 0, 0, 0, 0, 0, 0,\n",
              "         0, 0, 0, 0, 0, 0, 0, 0, 0, 0, 0, 0])},\n",
              " {'target': 1,\n",
              "  'features': array([0, 0, 0, 0, 0, 0, 0, 0, 0, 0, 0, 0, 0, 0, 0, 0, 0, 0, 0, 0, 0, 0,\n",
              "         0, 0, 0, 0, 0, 0, 0, 0, 0, 0, 0, 0, 0, 0, 0, 1, 0, 0, 0, 0, 0, 0,\n",
              "         0, 0, 0, 0, 0, 0, 0, 0, 0, 0, 0, 0, 0, 0, 0, 0, 1, 0, 0, 0, 0, 0,\n",
              "         0, 0, 0, 0, 0, 0, 0, 0, 0, 0, 0, 0, 0, 0, 0, 0, 0, 0, 0, 0, 0, 0,\n",
              "         0, 0, 0, 0, 0, 0, 0, 0, 0, 0, 0, 0])},\n",
              " {'target': 0,\n",
              "  'features': array([0, 1, 0, 0, 0, 0, 0, 1, 0, 0, 0, 0, 0, 0, 0, 0, 0, 0, 0, 0, 0, 0,\n",
              "         0, 0, 0, 0, 0, 0, 0, 0, 0, 0, 0, 0, 0, 0, 0, 0, 1, 0, 0, 0, 1, 0,\n",
              "         0, 0, 0, 0, 0, 0, 0, 0, 0, 0, 0, 0, 0, 0, 0, 0, 0, 0, 1, 0, 0, 0,\n",
              "         0, 0, 0, 0, 0, 0, 0, 0, 0, 0, 0, 0, 0, 0, 0, 0, 0, 0, 0, 0, 0, 0,\n",
              "         0, 0, 0, 0, 0, 0, 0, 0, 0, 0, 0, 0])},\n",
              " {'target': 1,\n",
              "  'features': array([0, 0, 0, 0, 1, 0, 0, 0, 0, 0, 0, 0, 0, 0, 0, 0, 0, 0, 0, 0, 0, 0,\n",
              "         1, 0, 0, 0, 0, 0, 0, 0, 0, 0, 0, 0, 0, 0, 0, 0, 0, 0, 0, 0, 0, 0,\n",
              "         0, 0, 0, 0, 0, 0, 0, 0, 0, 0, 0, 0, 0, 0, 0, 0, 0, 0, 0, 0, 0, 0,\n",
              "         0, 0, 0, 0, 0, 0, 0, 0, 0, 0, 0, 0, 0, 0, 0, 0, 0, 0, 0, 0, 0, 0,\n",
              "         0, 0, 0, 0, 0, 0, 0, 0, 0, 0, 0, 0])})"
            ]
          },
          "metadata": {},
          "execution_count": 10
        }
      ],
      "source": [
        "import numpy as np\n",
        "def vectorize_tokens(element):\n",
        "    vectorized_tokens = np.where(np.isin(top_100_tokens, element['review/tokens']), 1, 0)\n",
        "    element['review/token_vector'] = vectorized_tokens\n",
        "    return element\n",
        "\n",
        "def prep_model_data(element):\n",
        "    return {'target': 1 if element['review/sentiment'] == 'positive' else 0,\n",
        "            'features': element['review/token_vector']}\n",
        "\n",
        "model_data = review_text_clean.map(vectorize_tokens).map(prep_model_data)\n",
        "\n",
        "model_data.take(5)"
      ]
    },
    {
      "cell_type": "code",
      "execution_count": 11,
      "metadata": {
        "id": "zoo5SPVBcTsF",
        "colab": {
          "base_uri": "https://localhost:8080/",
          "height": 215
        },
        "outputId": "c5879c60-d1ed-454d-cc84-2ee359a801ae"
      },
      "outputs": [
        {
          "output_type": "stream",
          "name": "stdout",
          "text": [
            "[########################################] | 100% Completed | 13m 7s\n"
          ]
        },
        {
          "output_type": "execute_result",
          "data": {
            "text/plain": [
              "dask.array<concatenate, shape=(568454, 100), dtype=int64, chunksize=(1, 100), chunktype=numpy.ndarray>"
            ],
            "text/html": [
              "<table>\n",
              "    <tr>\n",
              "        <td>\n",
              "            <table style=\"border-collapse: collapse;\">\n",
              "                <thead>\n",
              "                    <tr>\n",
              "                        <td> </td>\n",
              "                        <th> Array </th>\n",
              "                        <th> Chunk </th>\n",
              "                    </tr>\n",
              "                </thead>\n",
              "                <tbody>\n",
              "                    \n",
              "                    <tr>\n",
              "                        <th> Bytes </th>\n",
              "                        <td> 433.70 MiB </td>\n",
              "                        <td> 800 B </td>\n",
              "                    </tr>\n",
              "                    \n",
              "                    <tr>\n",
              "                        <th> Shape </th>\n",
              "                        <td> (568454, 100) </td>\n",
              "                        <td> (1, 100) </td>\n",
              "                    </tr>\n",
              "                    <tr>\n",
              "                        <th> Dask graph </th>\n",
              "                        <td colspan=\"2\"> 568454 chunks in 714048 graph layers </td>\n",
              "                    </tr>\n",
              "                    <tr>\n",
              "                        <th> Data type </th>\n",
              "                        <td colspan=\"2\"> int64 numpy.ndarray </td>\n",
              "                    </tr>\n",
              "                </tbody>\n",
              "            </table>\n",
              "        </td>\n",
              "        <td>\n",
              "        <svg width=\"75\" height=\"170\" style=\"stroke:rgb(0,0,0);stroke-width:1\" >\n",
              "\n",
              "  <!-- Horizontal lines -->\n",
              "  <line x1=\"0\" y1=\"0\" x2=\"25\" y2=\"0\" style=\"stroke-width:2\" />\n",
              "  <line x1=\"0\" y1=\"6\" x2=\"25\" y2=\"6\" />\n",
              "  <line x1=\"0\" y1=\"12\" x2=\"25\" y2=\"12\" />\n",
              "  <line x1=\"0\" y1=\"18\" x2=\"25\" y2=\"18\" />\n",
              "  <line x1=\"0\" y1=\"25\" x2=\"25\" y2=\"25\" />\n",
              "  <line x1=\"0\" y1=\"31\" x2=\"25\" y2=\"31\" />\n",
              "  <line x1=\"0\" y1=\"37\" x2=\"25\" y2=\"37\" />\n",
              "  <line x1=\"0\" y1=\"44\" x2=\"25\" y2=\"44\" />\n",
              "  <line x1=\"0\" y1=\"50\" x2=\"25\" y2=\"50\" />\n",
              "  <line x1=\"0\" y1=\"56\" x2=\"25\" y2=\"56\" />\n",
              "  <line x1=\"0\" y1=\"63\" x2=\"25\" y2=\"63\" />\n",
              "  <line x1=\"0\" y1=\"69\" x2=\"25\" y2=\"69\" />\n",
              "  <line x1=\"0\" y1=\"75\" x2=\"25\" y2=\"75\" />\n",
              "  <line x1=\"0\" y1=\"82\" x2=\"25\" y2=\"82\" />\n",
              "  <line x1=\"0\" y1=\"88\" x2=\"25\" y2=\"88\" />\n",
              "  <line x1=\"0\" y1=\"94\" x2=\"25\" y2=\"94\" />\n",
              "  <line x1=\"0\" y1=\"101\" x2=\"25\" y2=\"101\" />\n",
              "  <line x1=\"0\" y1=\"107\" x2=\"25\" y2=\"107\" />\n",
              "  <line x1=\"0\" y1=\"113\" x2=\"25\" y2=\"113\" />\n",
              "  <line x1=\"0\" y1=\"120\" x2=\"25\" y2=\"120\" style=\"stroke-width:2\" />\n",
              "\n",
              "  <!-- Vertical lines -->\n",
              "  <line x1=\"0\" y1=\"0\" x2=\"0\" y2=\"120\" style=\"stroke-width:2\" />\n",
              "  <line x1=\"25\" y1=\"0\" x2=\"25\" y2=\"120\" style=\"stroke-width:2\" />\n",
              "\n",
              "  <!-- Colored Rectangle -->\n",
              "  <polygon points=\"0.0,0.0 25.41261651458249,0.0 25.41261651458249,120.0 0.0,120.0\" style=\"fill:#8B4903A0;stroke-width:0\"/>\n",
              "\n",
              "  <!-- Text -->\n",
              "  <text x=\"12.706308\" y=\"140.000000\" font-size=\"1.0rem\" font-weight=\"100\" text-anchor=\"middle\" >100</text>\n",
              "  <text x=\"45.412617\" y=\"60.000000\" font-size=\"1.0rem\" font-weight=\"100\" text-anchor=\"middle\" transform=\"rotate(-90,45.412617,60.000000)\">568454</text>\n",
              "</svg>\n",
              "        </td>\n",
              "    </tr>\n",
              "</table>"
            ]
          },
          "metadata": {},
          "execution_count": 11
        }
      ],
      "source": [
        "from dask import array as dask_array\n",
        "def stacker(partition):\n",
        "    return dask_array.concatenate([element for element in partition])\n",
        "\n",
        "with ProgressBar():\n",
        "    feature_arrays = model_data.pluck('features').map(lambda x: dask_array.from_array(x, 1000).reshape(1,-1)).reduction(perpartition=stacker, aggregate=stacker)\n",
        "    feature_array = feature_arrays.compute()\n",
        "feature_array"
      ]
    },
    {
      "cell_type": "code",
      "source": [
        "!pip install zarr"
      ],
      "metadata": {
        "colab": {
          "base_uri": "https://localhost:8080/"
        },
        "id": "fnmcnck0P7Oy",
        "outputId": "49b62f01-718a-44f1-8e1c-3d1071ee687a"
      },
      "execution_count": 12,
      "outputs": [
        {
          "output_type": "stream",
          "name": "stdout",
          "text": [
            "Collecting zarr\n",
            "  Downloading zarr-2.18.3-py3-none-any.whl.metadata (5.7 kB)\n",
            "Collecting asciitree (from zarr)\n",
            "  Downloading asciitree-0.3.3.tar.gz (4.0 kB)\n",
            "  Preparing metadata (setup.py) ... \u001b[?25l\u001b[?25hdone\n",
            "Requirement already satisfied: numpy>=1.24 in /usr/local/lib/python3.10/dist-packages (from zarr) (1.26.4)\n",
            "Collecting numcodecs>=0.10.0 (from zarr)\n",
            "  Downloading numcodecs-0.13.1-cp310-cp310-manylinux_2_17_x86_64.manylinux2014_x86_64.whl.metadata (2.9 kB)\n",
            "Collecting fasteners (from zarr)\n",
            "  Downloading fasteners-0.19-py3-none-any.whl.metadata (4.9 kB)\n",
            "Downloading zarr-2.18.3-py3-none-any.whl (210 kB)\n",
            "\u001b[2K   \u001b[90m━━━━━━━━━━━━━━━━━━━━━━━━━━━━━━━━━━━━━━━━\u001b[0m \u001b[32m210.7/210.7 kB\u001b[0m \u001b[31m4.4 MB/s\u001b[0m eta \u001b[36m0:00:00\u001b[0m\n",
            "\u001b[?25hDownloading numcodecs-0.13.1-cp310-cp310-manylinux_2_17_x86_64.manylinux2014_x86_64.whl (8.6 MB)\n",
            "\u001b[2K   \u001b[90m━━━━━━━━━━━━━━━━━━━━━━━━━━━━━━━━━━━━━━━━\u001b[0m \u001b[32m8.6/8.6 MB\u001b[0m \u001b[31m74.6 MB/s\u001b[0m eta \u001b[36m0:00:00\u001b[0m\n",
            "\u001b[?25hDownloading fasteners-0.19-py3-none-any.whl (18 kB)\n",
            "Building wheels for collected packages: asciitree\n",
            "  Building wheel for asciitree (setup.py) ... \u001b[?25l\u001b[?25hdone\n",
            "  Created wheel for asciitree: filename=asciitree-0.3.3-py3-none-any.whl size=5034 sha256=26caae3dc9d0eb658a9c33754628df6762a6e1e0580257fc9fbf82470c63c9b5\n",
            "  Stored in directory: /root/.cache/pip/wheels/7f/4e/be/1171b40f43b918087657ec57cf3b81fa1a2e027d8755baa184\n",
            "Successfully built asciitree\n",
            "Installing collected packages: asciitree, numcodecs, fasteners, zarr\n",
            "Successfully installed asciitree-0.3.3 fasteners-0.19 numcodecs-0.13.1 zarr-2.18.3\n"
          ]
        }
      ]
    },
    {
      "cell_type": "code",
      "execution_count": 13,
      "metadata": {
        "colab": {
          "base_uri": "https://localhost:8080/"
        },
        "id": "tNz1peUbcTsG",
        "outputId": "4db01dab-d959-4cbf-9d75-fd38df4b1dd0"
      },
      "outputs": [
        {
          "output_type": "stream",
          "name": "stdout",
          "text": [
            "[########################################] | 100% Completed | 11m 30s\n",
            "[########################################] | 100% Completed | 527.36 s\n",
            "[########################################] | 100% Completed | 470.00 s\n"
          ]
        }
      ],
      "source": [
        "with ProgressBar():\n",
        "    feature_array.rechunk(5000).to_zarr('sentiment_feature_array.zarr')\n",
        "    feature_array = dask_array.from_zarr('sentiment_feature_array.zarr')\n",
        "\n",
        "with ProgressBar():\n",
        "    target_arrays = model_data.pluck('target').map(lambda x: dask_array.from_array(x, 1000).reshape(-1,1)).reduction(perpartition=stacker, aggregate=stacker)\n",
        "    target_arrays.compute().rechunk(5000).to_zarr('sentiment_target_array.zarr')\n",
        "    target_array = dask_array.from_zarr('sentiment_target_array.zarr')"
      ]
    },
    {
      "cell_type": "code",
      "source": [
        "!pip install dask-ml"
      ],
      "metadata": {
        "colab": {
          "base_uri": "https://localhost:8080/"
        },
        "id": "4X2WacjrZLwa",
        "outputId": "d1797244-8a0f-4859-be25-43cfc9a168cf"
      },
      "execution_count": 15,
      "outputs": [
        {
          "output_type": "stream",
          "name": "stdout",
          "text": [
            "Collecting dask-ml\n",
            "  Downloading dask_ml-2024.4.4-py3-none-any.whl.metadata (5.9 kB)\n",
            "Collecting dask-glm>=0.2.0 (from dask-ml)\n",
            "  Downloading dask_glm-0.3.2-py2.py3-none-any.whl.metadata (1.5 kB)\n",
            "Requirement already satisfied: dask>=2.4.0 in /usr/local/lib/python3.10/dist-packages (from dask[array,dataframe]>=2.4.0->dask-ml) (2024.12.0)\n",
            "Collecting distributed>=2.4.0 (from dask-ml)\n",
            "  Downloading distributed-2024.12.0-py3-none-any.whl.metadata (3.3 kB)\n",
            "Collecting multipledispatch>=0.4.9 (from dask-ml)\n",
            "  Downloading multipledispatch-1.0.0-py3-none-any.whl.metadata (3.8 kB)\n",
            "Requirement already satisfied: numba>=0.51.0 in /usr/local/lib/python3.10/dist-packages (from dask-ml) (0.60.0)\n",
            "Requirement already satisfied: numpy>=1.20.0 in /usr/local/lib/python3.10/dist-packages (from dask-ml) (1.26.4)\n",
            "Requirement already satisfied: packaging in /usr/local/lib/python3.10/dist-packages (from dask-ml) (24.2)\n",
            "Requirement already satisfied: pandas>=0.24.2 in /usr/local/lib/python3.10/dist-packages (from dask-ml) (2.2.2)\n",
            "Requirement already satisfied: scikit-learn>=1.2.0 in /usr/local/lib/python3.10/dist-packages (from dask-ml) (1.5.2)\n",
            "Requirement already satisfied: scipy in /usr/local/lib/python3.10/dist-packages (from dask-ml) (1.13.1)\n",
            "Requirement already satisfied: click>=8.1 in /usr/local/lib/python3.10/dist-packages (from dask>=2.4.0->dask[array,dataframe]>=2.4.0->dask-ml) (8.1.7)\n",
            "Requirement already satisfied: cloudpickle>=3.0.0 in /usr/local/lib/python3.10/dist-packages (from dask>=2.4.0->dask[array,dataframe]>=2.4.0->dask-ml) (3.1.0)\n",
            "Requirement already satisfied: fsspec>=2021.09.0 in /usr/local/lib/python3.10/dist-packages (from dask>=2.4.0->dask[array,dataframe]>=2.4.0->dask-ml) (2024.10.0)\n",
            "Requirement already satisfied: partd>=1.4.0 in /usr/local/lib/python3.10/dist-packages (from dask>=2.4.0->dask[array,dataframe]>=2.4.0->dask-ml) (1.4.2)\n",
            "Requirement already satisfied: pyyaml>=5.3.1 in /usr/local/lib/python3.10/dist-packages (from dask>=2.4.0->dask[array,dataframe]>=2.4.0->dask-ml) (6.0.2)\n",
            "Requirement already satisfied: toolz>=0.10.0 in /usr/local/lib/python3.10/dist-packages (from dask>=2.4.0->dask[array,dataframe]>=2.4.0->dask-ml) (1.0.0)\n",
            "Requirement already satisfied: importlib_metadata>=4.13.0 in /usr/local/lib/python3.10/dist-packages (from dask>=2.4.0->dask[array,dataframe]>=2.4.0->dask-ml) (8.5.0)\n",
            "Collecting sparse>=0.7.0 (from dask-glm>=0.2.0->dask-ml)\n",
            "  Downloading sparse-0.15.4-py2.py3-none-any.whl.metadata (4.5 kB)\n",
            "Collecting dask-expr<1.2,>=1.1 (from dask[array,dataframe]>=2.4.0->dask-ml)\n",
            "  Downloading dask_expr-1.1.20-py3-none-any.whl.metadata (2.6 kB)\n",
            "Requirement already satisfied: jinja2>=2.10.3 in /usr/local/lib/python3.10/dist-packages (from distributed>=2.4.0->dask-ml) (3.1.4)\n",
            "Requirement already satisfied: locket>=1.0.0 in /usr/local/lib/python3.10/dist-packages (from distributed>=2.4.0->dask-ml) (1.0.0)\n",
            "Requirement already satisfied: msgpack>=1.0.2 in /usr/local/lib/python3.10/dist-packages (from distributed>=2.4.0->dask-ml) (1.1.0)\n",
            "Requirement already satisfied: psutil>=5.8.0 in /usr/local/lib/python3.10/dist-packages (from distributed>=2.4.0->dask-ml) (5.9.5)\n",
            "Collecting sortedcontainers>=2.0.5 (from distributed>=2.4.0->dask-ml)\n",
            "  Downloading sortedcontainers-2.4.0-py2.py3-none-any.whl.metadata (10 kB)\n",
            "Collecting tblib>=1.6.0 (from distributed>=2.4.0->dask-ml)\n",
            "  Downloading tblib-3.0.0-py3-none-any.whl.metadata (25 kB)\n",
            "Requirement already satisfied: tornado>=6.2.0 in /usr/local/lib/python3.10/dist-packages (from distributed>=2.4.0->dask-ml) (6.3.3)\n",
            "Requirement already satisfied: urllib3>=1.26.5 in /usr/local/lib/python3.10/dist-packages (from distributed>=2.4.0->dask-ml) (2.2.3)\n",
            "Collecting zict>=3.0.0 (from distributed>=2.4.0->dask-ml)\n",
            "  Downloading zict-3.0.0-py2.py3-none-any.whl.metadata (899 bytes)\n",
            "Requirement already satisfied: llvmlite<0.44,>=0.43.0dev0 in /usr/local/lib/python3.10/dist-packages (from numba>=0.51.0->dask-ml) (0.43.0)\n",
            "Requirement already satisfied: python-dateutil>=2.8.2 in /usr/local/lib/python3.10/dist-packages (from pandas>=0.24.2->dask-ml) (2.9.0.post0)\n",
            "Requirement already satisfied: pytz>=2020.1 in /usr/local/lib/python3.10/dist-packages (from pandas>=0.24.2->dask-ml) (2024.2)\n",
            "Requirement already satisfied: tzdata>=2022.7 in /usr/local/lib/python3.10/dist-packages (from pandas>=0.24.2->dask-ml) (2024.2)\n",
            "Requirement already satisfied: joblib>=1.2.0 in /usr/local/lib/python3.10/dist-packages (from scikit-learn>=1.2.0->dask-ml) (1.4.2)\n",
            "Requirement already satisfied: threadpoolctl>=3.1.0 in /usr/local/lib/python3.10/dist-packages (from scikit-learn>=1.2.0->dask-ml) (3.5.0)\n",
            "Requirement already satisfied: pyarrow>=14.0.1 in /usr/local/lib/python3.10/dist-packages (from dask-expr<1.2,>=1.1->dask[array,dataframe]>=2.4.0->dask-ml) (18.1.0)\n",
            "Requirement already satisfied: zipp>=3.20 in /usr/local/lib/python3.10/dist-packages (from importlib_metadata>=4.13.0->dask>=2.4.0->dask[array,dataframe]>=2.4.0->dask-ml) (3.21.0)\n",
            "Requirement already satisfied: MarkupSafe>=2.0 in /usr/local/lib/python3.10/dist-packages (from jinja2>=2.10.3->distributed>=2.4.0->dask-ml) (3.0.2)\n",
            "Requirement already satisfied: six>=1.5 in /usr/local/lib/python3.10/dist-packages (from python-dateutil>=2.8.2->pandas>=0.24.2->dask-ml) (1.16.0)\n",
            "Downloading dask_ml-2024.4.4-py3-none-any.whl (149 kB)\n",
            "\u001b[2K   \u001b[90m━━━━━━━━━━━━━━━━━━━━━━━━━━━━━━━━━━━━━━━━\u001b[0m \u001b[32m149.8/149.8 kB\u001b[0m \u001b[31m5.2 MB/s\u001b[0m eta \u001b[36m0:00:00\u001b[0m\n",
            "\u001b[?25hDownloading dask_glm-0.3.2-py2.py3-none-any.whl (13 kB)\n",
            "Downloading distributed-2024.12.0-py3-none-any.whl (1.0 MB)\n",
            "\u001b[2K   \u001b[90m━━━━━━━━━━━━━━━━━━━━━━━━━━━━━━━━━━━━━━━━\u001b[0m \u001b[32m1.0/1.0 MB\u001b[0m \u001b[31m25.9 MB/s\u001b[0m eta \u001b[36m0:00:00\u001b[0m\n",
            "\u001b[?25hDownloading multipledispatch-1.0.0-py3-none-any.whl (12 kB)\n",
            "Downloading dask_expr-1.1.20-py3-none-any.whl (245 kB)\n",
            "\u001b[2K   \u001b[90m━━━━━━━━━━━━━━━━━━━━━━━━━━━━━━━━━━━━━━━━\u001b[0m \u001b[32m245.3/245.3 kB\u001b[0m \u001b[31m15.9 MB/s\u001b[0m eta \u001b[36m0:00:00\u001b[0m\n",
            "\u001b[?25hDownloading sortedcontainers-2.4.0-py2.py3-none-any.whl (29 kB)\n",
            "Downloading sparse-0.15.4-py2.py3-none-any.whl (237 kB)\n",
            "\u001b[2K   \u001b[90m━━━━━━━━━━━━━━━━━━━━━━━━━━━━━━━━━━━━━━━━\u001b[0m \u001b[32m237.3/237.3 kB\u001b[0m \u001b[31m16.0 MB/s\u001b[0m eta \u001b[36m0:00:00\u001b[0m\n",
            "\u001b[?25hDownloading tblib-3.0.0-py3-none-any.whl (12 kB)\n",
            "Downloading zict-3.0.0-py2.py3-none-any.whl (43 kB)\n",
            "\u001b[2K   \u001b[90m━━━━━━━━━━━━━━━━━━━━━━━━━━━━━━━━━━━━━━━━\u001b[0m \u001b[32m43.3/43.3 kB\u001b[0m \u001b[31m2.6 MB/s\u001b[0m eta \u001b[36m0:00:00\u001b[0m\n",
            "\u001b[?25hInstalling collected packages: sortedcontainers, multipledispatch, zict, tblib, sparse, distributed, dask-expr, dask-glm, dask-ml\n",
            "Successfully installed dask-expr-1.1.20 dask-glm-0.3.2 dask-ml-2024.4.4 distributed-2024.12.0 multipledispatch-1.0.0 sortedcontainers-2.4.0 sparse-0.15.4 tblib-3.0.0 zict-3.0.0\n"
          ]
        }
      ]
    },
    {
      "cell_type": "code",
      "execution_count": 16,
      "metadata": {
        "id": "0yfK-ogacTsG",
        "outputId": "e1b1ef81-b0d3-45c9-f86f-64356504dcc7",
        "colab": {
          "base_uri": "https://localhost:8080/"
        }
      },
      "outputs": [
        {
          "output_type": "stream",
          "name": "stdout",
          "text": [
            "[########################################] | 100% Completed | 851.93 ms\n",
            "[#############                           ] | 34% Completed | 670.72 ms"
          ]
        },
        {
          "output_type": "stream",
          "name": "stderr",
          "text": [
            "/usr/local/lib/python3.10/dist-packages/dask_glm/utils.py:66: RuntimeWarning: overflow encountered in exp\n",
            "  return np.exp(A)\n"
          ]
        },
        {
          "output_type": "stream",
          "name": "stdout",
          "text": [
            "[########################################] | 100% Completed | 4.56 s\n",
            "[########################################] | 100% Completed | 4.49 s\n",
            "[########################################] | 100% Completed | 4.54 s\n",
            "[########################################] | 100% Completed | 4.53 s\n",
            "[########################################] | 100% Completed | 4.56 s\n",
            "[########################################] | 100% Completed | 4.55 s\n",
            "[########################################] | 100% Completed | 4.53 s\n",
            "[########################################] | 100% Completed | 4.55 s\n",
            "[########################################] | 100% Completed | 4.59 s\n",
            "[########################################] | 100% Completed | 4.51 s\n",
            "[########################################] | 100% Completed | 4.50 s\n",
            "[########################################] | 100% Completed | 4.50 s\n",
            "[########################################] | 100% Completed | 4.57 s\n",
            "[########################################] | 100% Completed | 4.56 s\n",
            "[########################################] | 100% Completed | 4.61 s\n",
            "[########################################] | 100% Completed | 4.62 s\n",
            "[########################################] | 100% Completed | 4.57 s\n",
            "[########################################] | 100% Completed | 4.59 s\n",
            "[########################################] | 100% Completed | 4.53 s\n",
            "[########################################] | 100% Completed | 4.54 s\n",
            "[########################################] | 100% Completed | 4.56 s\n",
            "[########################################] | 100% Completed | 4.55 s\n",
            "[########################################] | 100% Completed | 4.53 s\n",
            "[########################################] | 100% Completed | 4.50 s\n",
            "[########################################] | 100% Completed | 4.56 s\n",
            "[########################################] | 100% Completed | 4.53 s\n",
            "[########################################] | 100% Completed | 4.55 s\n",
            "[########################################] | 100% Completed | 4.63 s\n",
            "[########################################] | 100% Completed | 4.58 s\n",
            "[########################################] | 100% Completed | 4.55 s\n",
            "[########################################] | 100% Completed | 4.54 s\n",
            "[########################################] | 100% Completed | 4.63 s\n",
            "[########################################] | 100% Completed | 4.48 s\n",
            "[########################################] | 100% Completed | 4.54 s\n",
            "[########################################] | 100% Completed | 4.62 s\n",
            "[########################################] | 100% Completed | 4.60 s\n",
            "[########################################] | 100% Completed | 4.53 s\n",
            "[########################################] | 100% Completed | 4.65 s\n",
            "[########################################] | 100% Completed | 4.52 s\n",
            "[########################################] | 100% Completed | 4.58 s\n",
            "[########################################] | 100% Completed | 4.47 s\n",
            "[########################################] | 100% Completed | 4.52 s\n",
            "[########################################] | 100% Completed | 4.47 s\n",
            "[########################################] | 100% Completed | 4.50 s\n",
            "[########################################] | 100% Completed | 4.60 s\n",
            "[########################################] | 100% Completed | 4.58 s\n",
            "[########################################] | 100% Completed | 4.53 s\n",
            "[########################################] | 100% Completed | 4.53 s\n",
            "[########################################] | 100% Completed | 4.65 s\n",
            "[########################################] | 100% Completed | 4.75 s\n",
            "[########################################] | 100% Completed | 4.67 s\n",
            "[########################################] | 100% Completed | 4.63 s\n",
            "[########################################] | 100% Completed | 4.54 s\n",
            "[########################################] | 100% Completed | 4.66 s\n",
            "[########################################] | 100% Completed | 4.58 s\n",
            "[########################################] | 100% Completed | 4.53 s\n",
            "[########################################] | 100% Completed | 4.65 s\n",
            "[########################################] | 100% Completed | 4.57 s\n",
            "[########################################] | 100% Completed | 4.56 s\n",
            "[########################################] | 100% Completed | 4.58 s\n",
            "[########################################] | 100% Completed | 4.61 s\n",
            "[########################################] | 100% Completed | 4.58 s\n",
            "[########################################] | 100% Completed | 4.51 s\n",
            "[########################################] | 100% Completed | 4.51 s\n",
            "[########################################] | 100% Completed | 4.52 s\n",
            "[########################################] | 100% Completed | 4.62 s\n",
            "[########################################] | 100% Completed | 4.59 s\n",
            "[########################################] | 100% Completed | 4.57 s\n",
            "[########################################] | 100% Completed | 4.52 s\n",
            "[########################################] | 100% Completed | 4.54 s\n",
            "[########################################] | 100% Completed | 4.58 s\n",
            "[########################################] | 100% Completed | 4.59 s\n",
            "[########################################] | 100% Completed | 4.62 s\n",
            "[########################################] | 100% Completed | 4.59 s\n",
            "[########################################] | 100% Completed | 4.53 s\n",
            "[########################################] | 100% Completed | 4.55 s\n",
            "[########################################] | 100% Completed | 4.43 s\n",
            "[########################################] | 100% Completed | 4.49 s\n",
            "[########################################] | 100% Completed | 4.52 s\n",
            "[########################################] | 100% Completed | 4.57 s\n",
            "[########################################] | 100% Completed | 4.57 s\n",
            "[########################################] | 100% Completed | 4.64 s\n",
            "[########################################] | 100% Completed | 4.55 s\n",
            "[########################################] | 100% Completed | 4.56 s\n",
            "[########################################] | 100% Completed | 4.60 s\n",
            "[########################################] | 100% Completed | 4.56 s\n",
            "[########################################] | 100% Completed | 4.59 s\n",
            "[########################################] | 100% Completed | 4.63 s\n",
            "[########################################] | 100% Completed | 4.56 s\n",
            "[########################################] | 100% Completed | 4.69 s\n",
            "[########################################] | 100% Completed | 4.66 s\n",
            "[########################################] | 100% Completed | 4.50 s\n",
            "[########################################] | 100% Completed | 4.49 s\n",
            "[########################################] | 100% Completed | 4.43 s\n",
            "[########################################] | 100% Completed | 4.57 s\n",
            "[########################################] | 100% Completed | 4.57 s\n",
            "[########################################] | 100% Completed | 4.51 s\n",
            "[########################################] | 100% Completed | 4.56 s\n",
            "[########################################] | 100% Completed | 4.50 s\n",
            "[########################################] | 100% Completed | 4.56 s\n"
          ]
        }
      ],
      "source": [
        "from dask_ml.linear_model import LogisticRegression\n",
        "from dask_ml.model_selection import train_test_split\n",
        "\n",
        "X = feature_array\n",
        "y = target_array.flatten()\n",
        "\n",
        "X_train, X_test, y_train, y_test = train_test_split(X, y, random_state=42)\n",
        "\n",
        "lr = LogisticRegression()\n",
        "\n",
        "with ProgressBar():\n",
        "    lr.fit(X_train, y_train)"
      ]
    },
    {
      "cell_type": "code",
      "execution_count": 17,
      "metadata": {
        "id": "QVRq5hLYcTsG",
        "outputId": "f1f6331a-9758-4ea3-9f3c-23c3dc466f2e",
        "colab": {
          "base_uri": "https://localhost:8080/"
        }
      },
      "outputs": [
        {
          "output_type": "execute_result",
          "data": {
            "text/plain": [
              "0.7968370685712275"
            ]
          },
          "metadata": {},
          "execution_count": 17
        }
      ],
      "source": [
        "lr.score(X_test, y_test).compute()"
      ]
    },
    {
      "cell_type": "code",
      "execution_count": 21,
      "metadata": {
        "id": "Ak9xfCxPcTsG",
        "outputId": "3ce9934d-546f-4c0e-ce41-fab954df03e2",
        "colab": {
          "base_uri": "https://localhost:8080/"
        }
      },
      "outputs": [
        {
          "output_type": "stream",
          "name": "stdout",
          "text": [
            "[########################################] | 100% Completed | 1.67 s\n"
          ]
        }
      ],
      "source": [
        "from sklearn.naive_bayes import BernoulliNB\n",
        "from dask_ml.wrappers import Incremental\n",
        "\n",
        "nb = BernoulliNB()\n",
        "\n",
        "parallel_nb = Incremental(nb)\n",
        "\n",
        "with ProgressBar():\n",
        "    parallel_nb.fit(X_train, y_train, classes=[0,1])"
      ]
    },
    {
      "cell_type": "code",
      "execution_count": 22,
      "metadata": {
        "id": "fDI89DOZcTsG",
        "outputId": "e1943cf6-cdfc-471a-b7ec-d393b23e9f47",
        "colab": {
          "base_uri": "https://localhost:8080/"
        }
      },
      "outputs": [
        {
          "output_type": "execute_result",
          "data": {
            "text/plain": [
              "0.7898356964430215"
            ]
          },
          "metadata": {},
          "execution_count": 22
        }
      ],
      "source": [
        "parallel_nb.score(X_test, y_test)"
      ]
    },
    {
      "cell_type": "code",
      "execution_count": 23,
      "metadata": {
        "id": "YC3KIHN6cTsH",
        "outputId": "d58c989e-8f06-43e3-e829-faa3bd9945e7",
        "colab": {
          "base_uri": "https://localhost:8080/"
        }
      },
      "outputs": [
        {
          "output_type": "stream",
          "name": "stdout",
          "text": [
            "[########################################] | 100% Completed | 331.25 s\n",
            "[########################################] | 100% Completed | 198.92 s\n"
          ]
        }
      ],
      "source": [
        "from dask_ml.model_selection import GridSearchCV\n",
        "\n",
        "parameters = {'penalty': ['l1', 'l2'], 'C': [0.5, 1, 2]}\n",
        "\n",
        "lr = LogisticRegression()\n",
        "tuned_lr = GridSearchCV(lr, parameters)\n",
        "\n",
        "with ProgressBar():\n",
        "    tuned_lr.fit(X_train, y_train)"
      ]
    },
    {
      "cell_type": "code",
      "execution_count": 24,
      "metadata": {
        "id": "y8CngR0IcTsH",
        "outputId": "53432462-1670-42b1-fc07-d27987c40741",
        "scrolled": false,
        "colab": {
          "base_uri": "https://localhost:8080/",
          "height": 237
        }
      },
      "outputs": [
        {
          "output_type": "execute_result",
          "data": {
            "text/plain": [
              "                        params  mean_fit_time  std_fit_time  mean_score_time  \\\n",
              "0  {'C': 0.5, 'penalty': 'l1'}     327.747198      1.735357         0.162804   \n",
              "1  {'C': 0.5, 'penalty': 'l2'}      72.545755      0.477671         0.261724   \n",
              "2    {'C': 1, 'penalty': 'l1'}     316.029191      9.179315         0.197931   \n",
              "3    {'C': 1, 'penalty': 'l2'}      49.505143      1.022170         0.261744   \n",
              "4    {'C': 2, 'penalty': 'l1'}     196.782376      9.978761         0.252853   \n",
              "5    {'C': 2, 'penalty': 'l2'}      44.904899      0.615832         0.325508   \n",
              "\n",
              "   std_score_time  split0_test_score  split1_test_score  split2_test_score  \\\n",
              "0        0.037626           0.790660           0.794090           0.796506   \n",
              "1        0.078786           0.790836           0.793821           0.796477   \n",
              "2        0.028634           0.790736           0.793668           0.796483   \n",
              "3        0.027988           0.790836           0.793821           0.796477   \n",
              "4        0.014787           0.790707           0.793727           0.796512   \n",
              "5        0.046607           0.790836           0.793821           0.796477   \n",
              "\n",
              "   mean_test_score  std_test_score  rank_test_score param_C param_penalty  \n",
              "0         0.793752        0.002399                1     0.5            l1  \n",
              "1         0.793711        0.002304                2     0.5            l2  \n",
              "2         0.793629        0.002346                6       1            l1  \n",
              "3         0.793711        0.002304                2       1            l2  \n",
              "4         0.793649        0.002371                5       2            l1  \n",
              "5         0.793711        0.002304                2       2            l2  "
            ],
            "text/html": [
              "\n",
              "  <div id=\"df-5f96b981-c1ae-4586-b102-5b3a51b625fa\" class=\"colab-df-container\">\n",
              "    <div>\n",
              "<style scoped>\n",
              "    .dataframe tbody tr th:only-of-type {\n",
              "        vertical-align: middle;\n",
              "    }\n",
              "\n",
              "    .dataframe tbody tr th {\n",
              "        vertical-align: top;\n",
              "    }\n",
              "\n",
              "    .dataframe thead th {\n",
              "        text-align: right;\n",
              "    }\n",
              "</style>\n",
              "<table border=\"1\" class=\"dataframe\">\n",
              "  <thead>\n",
              "    <tr style=\"text-align: right;\">\n",
              "      <th></th>\n",
              "      <th>params</th>\n",
              "      <th>mean_fit_time</th>\n",
              "      <th>std_fit_time</th>\n",
              "      <th>mean_score_time</th>\n",
              "      <th>std_score_time</th>\n",
              "      <th>split0_test_score</th>\n",
              "      <th>split1_test_score</th>\n",
              "      <th>split2_test_score</th>\n",
              "      <th>mean_test_score</th>\n",
              "      <th>std_test_score</th>\n",
              "      <th>rank_test_score</th>\n",
              "      <th>param_C</th>\n",
              "      <th>param_penalty</th>\n",
              "    </tr>\n",
              "  </thead>\n",
              "  <tbody>\n",
              "    <tr>\n",
              "      <th>0</th>\n",
              "      <td>{'C': 0.5, 'penalty': 'l1'}</td>\n",
              "      <td>327.747198</td>\n",
              "      <td>1.735357</td>\n",
              "      <td>0.162804</td>\n",
              "      <td>0.037626</td>\n",
              "      <td>0.790660</td>\n",
              "      <td>0.794090</td>\n",
              "      <td>0.796506</td>\n",
              "      <td>0.793752</td>\n",
              "      <td>0.002399</td>\n",
              "      <td>1</td>\n",
              "      <td>0.5</td>\n",
              "      <td>l1</td>\n",
              "    </tr>\n",
              "    <tr>\n",
              "      <th>1</th>\n",
              "      <td>{'C': 0.5, 'penalty': 'l2'}</td>\n",
              "      <td>72.545755</td>\n",
              "      <td>0.477671</td>\n",
              "      <td>0.261724</td>\n",
              "      <td>0.078786</td>\n",
              "      <td>0.790836</td>\n",
              "      <td>0.793821</td>\n",
              "      <td>0.796477</td>\n",
              "      <td>0.793711</td>\n",
              "      <td>0.002304</td>\n",
              "      <td>2</td>\n",
              "      <td>0.5</td>\n",
              "      <td>l2</td>\n",
              "    </tr>\n",
              "    <tr>\n",
              "      <th>2</th>\n",
              "      <td>{'C': 1, 'penalty': 'l1'}</td>\n",
              "      <td>316.029191</td>\n",
              "      <td>9.179315</td>\n",
              "      <td>0.197931</td>\n",
              "      <td>0.028634</td>\n",
              "      <td>0.790736</td>\n",
              "      <td>0.793668</td>\n",
              "      <td>0.796483</td>\n",
              "      <td>0.793629</td>\n",
              "      <td>0.002346</td>\n",
              "      <td>6</td>\n",
              "      <td>1</td>\n",
              "      <td>l1</td>\n",
              "    </tr>\n",
              "    <tr>\n",
              "      <th>3</th>\n",
              "      <td>{'C': 1, 'penalty': 'l2'}</td>\n",
              "      <td>49.505143</td>\n",
              "      <td>1.022170</td>\n",
              "      <td>0.261744</td>\n",
              "      <td>0.027988</td>\n",
              "      <td>0.790836</td>\n",
              "      <td>0.793821</td>\n",
              "      <td>0.796477</td>\n",
              "      <td>0.793711</td>\n",
              "      <td>0.002304</td>\n",
              "      <td>2</td>\n",
              "      <td>1</td>\n",
              "      <td>l2</td>\n",
              "    </tr>\n",
              "    <tr>\n",
              "      <th>4</th>\n",
              "      <td>{'C': 2, 'penalty': 'l1'}</td>\n",
              "      <td>196.782376</td>\n",
              "      <td>9.978761</td>\n",
              "      <td>0.252853</td>\n",
              "      <td>0.014787</td>\n",
              "      <td>0.790707</td>\n",
              "      <td>0.793727</td>\n",
              "      <td>0.796512</td>\n",
              "      <td>0.793649</td>\n",
              "      <td>0.002371</td>\n",
              "      <td>5</td>\n",
              "      <td>2</td>\n",
              "      <td>l1</td>\n",
              "    </tr>\n",
              "    <tr>\n",
              "      <th>5</th>\n",
              "      <td>{'C': 2, 'penalty': 'l2'}</td>\n",
              "      <td>44.904899</td>\n",
              "      <td>0.615832</td>\n",
              "      <td>0.325508</td>\n",
              "      <td>0.046607</td>\n",
              "      <td>0.790836</td>\n",
              "      <td>0.793821</td>\n",
              "      <td>0.796477</td>\n",
              "      <td>0.793711</td>\n",
              "      <td>0.002304</td>\n",
              "      <td>2</td>\n",
              "      <td>2</td>\n",
              "      <td>l2</td>\n",
              "    </tr>\n",
              "  </tbody>\n",
              "</table>\n",
              "</div>\n",
              "    <div class=\"colab-df-buttons\">\n",
              "\n",
              "  <div class=\"colab-df-container\">\n",
              "    <button class=\"colab-df-convert\" onclick=\"convertToInteractive('df-5f96b981-c1ae-4586-b102-5b3a51b625fa')\"\n",
              "            title=\"Convert this dataframe to an interactive table.\"\n",
              "            style=\"display:none;\">\n",
              "\n",
              "  <svg xmlns=\"http://www.w3.org/2000/svg\" height=\"24px\" viewBox=\"0 -960 960 960\">\n",
              "    <path d=\"M120-120v-720h720v720H120Zm60-500h600v-160H180v160Zm220 220h160v-160H400v160Zm0 220h160v-160H400v160ZM180-400h160v-160H180v160Zm440 0h160v-160H620v160ZM180-180h160v-160H180v160Zm440 0h160v-160H620v160Z\"/>\n",
              "  </svg>\n",
              "    </button>\n",
              "\n",
              "  <style>\n",
              "    .colab-df-container {\n",
              "      display:flex;\n",
              "      gap: 12px;\n",
              "    }\n",
              "\n",
              "    .colab-df-convert {\n",
              "      background-color: #E8F0FE;\n",
              "      border: none;\n",
              "      border-radius: 50%;\n",
              "      cursor: pointer;\n",
              "      display: none;\n",
              "      fill: #1967D2;\n",
              "      height: 32px;\n",
              "      padding: 0 0 0 0;\n",
              "      width: 32px;\n",
              "    }\n",
              "\n",
              "    .colab-df-convert:hover {\n",
              "      background-color: #E2EBFA;\n",
              "      box-shadow: 0px 1px 2px rgba(60, 64, 67, 0.3), 0px 1px 3px 1px rgba(60, 64, 67, 0.15);\n",
              "      fill: #174EA6;\n",
              "    }\n",
              "\n",
              "    .colab-df-buttons div {\n",
              "      margin-bottom: 4px;\n",
              "    }\n",
              "\n",
              "    [theme=dark] .colab-df-convert {\n",
              "      background-color: #3B4455;\n",
              "      fill: #D2E3FC;\n",
              "    }\n",
              "\n",
              "    [theme=dark] .colab-df-convert:hover {\n",
              "      background-color: #434B5C;\n",
              "      box-shadow: 0px 1px 3px 1px rgba(0, 0, 0, 0.15);\n",
              "      filter: drop-shadow(0px 1px 2px rgba(0, 0, 0, 0.3));\n",
              "      fill: #FFFFFF;\n",
              "    }\n",
              "  </style>\n",
              "\n",
              "    <script>\n",
              "      const buttonEl =\n",
              "        document.querySelector('#df-5f96b981-c1ae-4586-b102-5b3a51b625fa button.colab-df-convert');\n",
              "      buttonEl.style.display =\n",
              "        google.colab.kernel.accessAllowed ? 'block' : 'none';\n",
              "\n",
              "      async function convertToInteractive(key) {\n",
              "        const element = document.querySelector('#df-5f96b981-c1ae-4586-b102-5b3a51b625fa');\n",
              "        const dataTable =\n",
              "          await google.colab.kernel.invokeFunction('convertToInteractive',\n",
              "                                                    [key], {});\n",
              "        if (!dataTable) return;\n",
              "\n",
              "        const docLinkHtml = 'Like what you see? Visit the ' +\n",
              "          '<a target=\"_blank\" href=https://colab.research.google.com/notebooks/data_table.ipynb>data table notebook</a>'\n",
              "          + ' to learn more about interactive tables.';\n",
              "        element.innerHTML = '';\n",
              "        dataTable['output_type'] = 'display_data';\n",
              "        await google.colab.output.renderOutput(dataTable, element);\n",
              "        const docLink = document.createElement('div');\n",
              "        docLink.innerHTML = docLinkHtml;\n",
              "        element.appendChild(docLink);\n",
              "      }\n",
              "    </script>\n",
              "  </div>\n",
              "\n",
              "\n",
              "<div id=\"df-c1b20db0-c467-40dd-80c7-ef137179fcea\">\n",
              "  <button class=\"colab-df-quickchart\" onclick=\"quickchart('df-c1b20db0-c467-40dd-80c7-ef137179fcea')\"\n",
              "            title=\"Suggest charts\"\n",
              "            style=\"display:none;\">\n",
              "\n",
              "<svg xmlns=\"http://www.w3.org/2000/svg\" height=\"24px\"viewBox=\"0 0 24 24\"\n",
              "     width=\"24px\">\n",
              "    <g>\n",
              "        <path d=\"M19 3H5c-1.1 0-2 .9-2 2v14c0 1.1.9 2 2 2h14c1.1 0 2-.9 2-2V5c0-1.1-.9-2-2-2zM9 17H7v-7h2v7zm4 0h-2V7h2v10zm4 0h-2v-4h2v4z\"/>\n",
              "    </g>\n",
              "</svg>\n",
              "  </button>\n",
              "\n",
              "<style>\n",
              "  .colab-df-quickchart {\n",
              "      --bg-color: #E8F0FE;\n",
              "      --fill-color: #1967D2;\n",
              "      --hover-bg-color: #E2EBFA;\n",
              "      --hover-fill-color: #174EA6;\n",
              "      --disabled-fill-color: #AAA;\n",
              "      --disabled-bg-color: #DDD;\n",
              "  }\n",
              "\n",
              "  [theme=dark] .colab-df-quickchart {\n",
              "      --bg-color: #3B4455;\n",
              "      --fill-color: #D2E3FC;\n",
              "      --hover-bg-color: #434B5C;\n",
              "      --hover-fill-color: #FFFFFF;\n",
              "      --disabled-bg-color: #3B4455;\n",
              "      --disabled-fill-color: #666;\n",
              "  }\n",
              "\n",
              "  .colab-df-quickchart {\n",
              "    background-color: var(--bg-color);\n",
              "    border: none;\n",
              "    border-radius: 50%;\n",
              "    cursor: pointer;\n",
              "    display: none;\n",
              "    fill: var(--fill-color);\n",
              "    height: 32px;\n",
              "    padding: 0;\n",
              "    width: 32px;\n",
              "  }\n",
              "\n",
              "  .colab-df-quickchart:hover {\n",
              "    background-color: var(--hover-bg-color);\n",
              "    box-shadow: 0 1px 2px rgba(60, 64, 67, 0.3), 0 1px 3px 1px rgba(60, 64, 67, 0.15);\n",
              "    fill: var(--button-hover-fill-color);\n",
              "  }\n",
              "\n",
              "  .colab-df-quickchart-complete:disabled,\n",
              "  .colab-df-quickchart-complete:disabled:hover {\n",
              "    background-color: var(--disabled-bg-color);\n",
              "    fill: var(--disabled-fill-color);\n",
              "    box-shadow: none;\n",
              "  }\n",
              "\n",
              "  .colab-df-spinner {\n",
              "    border: 2px solid var(--fill-color);\n",
              "    border-color: transparent;\n",
              "    border-bottom-color: var(--fill-color);\n",
              "    animation:\n",
              "      spin 1s steps(1) infinite;\n",
              "  }\n",
              "\n",
              "  @keyframes spin {\n",
              "    0% {\n",
              "      border-color: transparent;\n",
              "      border-bottom-color: var(--fill-color);\n",
              "      border-left-color: var(--fill-color);\n",
              "    }\n",
              "    20% {\n",
              "      border-color: transparent;\n",
              "      border-left-color: var(--fill-color);\n",
              "      border-top-color: var(--fill-color);\n",
              "    }\n",
              "    30% {\n",
              "      border-color: transparent;\n",
              "      border-left-color: var(--fill-color);\n",
              "      border-top-color: var(--fill-color);\n",
              "      border-right-color: var(--fill-color);\n",
              "    }\n",
              "    40% {\n",
              "      border-color: transparent;\n",
              "      border-right-color: var(--fill-color);\n",
              "      border-top-color: var(--fill-color);\n",
              "    }\n",
              "    60% {\n",
              "      border-color: transparent;\n",
              "      border-right-color: var(--fill-color);\n",
              "    }\n",
              "    80% {\n",
              "      border-color: transparent;\n",
              "      border-right-color: var(--fill-color);\n",
              "      border-bottom-color: var(--fill-color);\n",
              "    }\n",
              "    90% {\n",
              "      border-color: transparent;\n",
              "      border-bottom-color: var(--fill-color);\n",
              "    }\n",
              "  }\n",
              "</style>\n",
              "\n",
              "  <script>\n",
              "    async function quickchart(key) {\n",
              "      const quickchartButtonEl =\n",
              "        document.querySelector('#' + key + ' button');\n",
              "      quickchartButtonEl.disabled = true;  // To prevent multiple clicks.\n",
              "      quickchartButtonEl.classList.add('colab-df-spinner');\n",
              "      try {\n",
              "        const charts = await google.colab.kernel.invokeFunction(\n",
              "            'suggestCharts', [key], {});\n",
              "      } catch (error) {\n",
              "        console.error('Error during call to suggestCharts:', error);\n",
              "      }\n",
              "      quickchartButtonEl.classList.remove('colab-df-spinner');\n",
              "      quickchartButtonEl.classList.add('colab-df-quickchart-complete');\n",
              "    }\n",
              "    (() => {\n",
              "      let quickchartButtonEl =\n",
              "        document.querySelector('#df-c1b20db0-c467-40dd-80c7-ef137179fcea button');\n",
              "      quickchartButtonEl.style.display =\n",
              "        google.colab.kernel.accessAllowed ? 'block' : 'none';\n",
              "    })();\n",
              "  </script>\n",
              "</div>\n",
              "\n",
              "    </div>\n",
              "  </div>\n"
            ],
            "application/vnd.google.colaboratory.intrinsic+json": {
              "type": "dataframe",
              "summary": "{\n  \"name\": \"pd\",\n  \"rows\": 6,\n  \"fields\": [\n    {\n      \"column\": \"params\",\n      \"properties\": {\n        \"dtype\": \"object\",\n        \"semantic_type\": \"\",\n        \"description\": \"\"\n      }\n    },\n    {\n      \"column\": \"mean_fit_time\",\n      \"properties\": {\n        \"dtype\": \"number\",\n        \"std\": 131.5789816837913,\n        \"min\": 44.904899477666426,\n        \"max\": 327.7471976443333,\n        \"num_unique_values\": 6,\n        \"samples\": [\n          327.7471976443333,\n          72.5457545750002,\n          44.904899477666426\n        ],\n        \"semantic_type\": \"\",\n        \"description\": \"\"\n      }\n    },\n    {\n      \"column\": \"std_fit_time\",\n      \"properties\": {\n        \"dtype\": \"number\",\n        \"std\": 4.4780066970844254,\n        \"min\": 0.47767055289435795,\n        \"max\": 9.978761278338386,\n        \"num_unique_values\": 6,\n        \"samples\": [\n          1.7353569621425722,\n          0.47767055289435795,\n          0.6158322330507253\n        ],\n        \"semantic_type\": \"\",\n        \"description\": \"\"\n      }\n    },\n    {\n      \"column\": \"mean_score_time\",\n      \"properties\": {\n        \"dtype\": \"number\",\n        \"std\": 0.05668434096247133,\n        \"min\": 0.1628043933336206,\n        \"max\": 0.32550766966657346,\n        \"num_unique_values\": 6,\n        \"samples\": [\n          0.1628043933336206,\n          0.26172442533425055,\n          0.32550766966657346\n        ],\n        \"semantic_type\": \"\",\n        \"description\": \"\"\n      }\n    },\n    {\n      \"column\": \"std_score_time\",\n      \"properties\": {\n        \"dtype\": \"number\",\n        \"std\": 0.022170480829172293,\n        \"min\": 0.014786851389829075,\n        \"max\": 0.07878580833195727,\n        \"num_unique_values\": 6,\n        \"samples\": [\n          0.03762584688707634,\n          0.07878580833195727,\n          0.04660739481808262\n        ],\n        \"semantic_type\": \"\",\n        \"description\": \"\"\n      }\n    },\n    {\n      \"column\": \"split0_test_score\",\n      \"properties\": {\n        \"dtype\": \"number\",\n        \"std\": 7.777085034305268e-05,\n        \"min\": 0.7906600365905146,\n        \"max\": 0.7908359525261528,\n        \"num_unique_values\": 4,\n        \"samples\": [\n          0.7908359525261528,\n          0.7907069475066848,\n          0.7906600365905146\n        ],\n        \"semantic_type\": \"\",\n        \"description\": \"\"\n      }\n    },\n    {\n      \"column\": \"split1_test_score\",\n      \"properties\": {\n        \"dtype\": \"number\",\n        \"std\": 0.00014471593127768213,\n        \"min\": 0.7936681990899283,\n        \"max\": 0.7940903973354599,\n        \"num_unique_values\": 4,\n        \"samples\": [\n          0.7938206595674814,\n          0.793726837735141,\n          0.7940903973354599\n        ],\n        \"semantic_type\": \"\",\n        \"description\": \"\"\n      }\n    },\n    {\n      \"column\": \"split2_test_score\",\n      \"properties\": {\n        \"dtype\": \"number\",\n        \"std\": 1.6165558887354357e-05,\n        \"min\": 0.7964769901956186,\n        \"max\": 0.7965121733827462,\n        \"num_unique_values\": 4,\n        \"samples\": [\n          0.7964769901956186,\n          0.7965121733827462,\n          0.7965063095182249\n        ],\n        \"semantic_type\": \"\",\n        \"description\": \"\"\n      }\n    },\n    {\n      \"column\": \"mean_test_score\",\n      \"properties\": {\n        \"dtype\": \"number\",\n        \"std\": 4.5930139644942205e-05,\n        \"min\": 0.7936291066597864,\n        \"max\": 0.7937522478147332,\n        \"num_unique_values\": 4,\n        \"samples\": [\n          0.7937112007630842,\n          0.7936486528748573,\n          0.7937522478147332\n        ],\n        \"semantic_type\": \"\",\n        \"description\": \"\"\n      }\n    },\n    {\n      \"column\": \"std_test_score\",\n      \"properties\": {\n        \"dtype\": \"number\",\n        \"std\": 4.057420706159117e-05,\n        \"min\": 0.002304244260703569,\n        \"max\": 0.0023986781929631155,\n        \"num_unique_values\": 4,\n        \"samples\": [\n          0.002304244260703569,\n          0.0023706182769207807,\n          0.0023986781929631155\n        ],\n        \"semantic_type\": \"\",\n        \"description\": \"\"\n      }\n    },\n    {\n      \"column\": \"rank_test_score\",\n      \"properties\": {\n        \"dtype\": \"int32\",\n        \"num_unique_values\": 4,\n        \"samples\": [\n          2,\n          5,\n          1\n        ],\n        \"semantic_type\": \"\",\n        \"description\": \"\"\n      }\n    },\n    {\n      \"column\": \"param_C\",\n      \"properties\": {\n        \"dtype\": \"date\",\n        \"min\": 0.5,\n        \"max\": 2,\n        \"num_unique_values\": 3,\n        \"samples\": [\n          0.5,\n          1,\n          2\n        ],\n        \"semantic_type\": \"\",\n        \"description\": \"\"\n      }\n    },\n    {\n      \"column\": \"param_penalty\",\n      \"properties\": {\n        \"dtype\": \"category\",\n        \"num_unique_values\": 2,\n        \"samples\": [\n          \"l2\",\n          \"l1\"\n        ],\n        \"semantic_type\": \"\",\n        \"description\": \"\"\n      }\n    }\n  ]\n}"
            }
          },
          "metadata": {},
          "execution_count": 24
        }
      ],
      "source": [
        "import pandas as pd\n",
        "pd.DataFrame(tuned_lr.cv_results_)"
      ]
    },
    {
      "cell_type": "code",
      "source": [
        "!pip install dill"
      ],
      "metadata": {
        "colab": {
          "base_uri": "https://localhost:8080/"
        },
        "id": "uSyyi2U6lgXP",
        "outputId": "d110f614-7640-41c5-965e-a214c37f956e"
      },
      "execution_count": 26,
      "outputs": [
        {
          "output_type": "stream",
          "name": "stdout",
          "text": [
            "Collecting dill\n",
            "  Downloading dill-0.3.9-py3-none-any.whl.metadata (10 kB)\n",
            "Downloading dill-0.3.9-py3-none-any.whl (119 kB)\n",
            "\u001b[?25l   \u001b[90m━━━━━━━━━━━━━━━━━━━━━━━━━━━━━━━━━━━━━━━━\u001b[0m \u001b[32m0.0/119.4 kB\u001b[0m \u001b[31m?\u001b[0m eta \u001b[36m-:--:--\u001b[0m\r\u001b[2K   \u001b[91m━━━━━━━━━━━━━━━━━━━━━━━━━━━━━━━━━━━━━\u001b[0m\u001b[91m╸\u001b[0m\u001b[90m━━\u001b[0m \u001b[32m112.6/119.4 kB\u001b[0m \u001b[31m3.1 MB/s\u001b[0m eta \u001b[36m0:00:01\u001b[0m\r\u001b[2K   \u001b[90m━━━━━━━━━━━━━━━━━━━━━━━━━━━━━━━━━━━━━━━━\u001b[0m \u001b[32m119.4/119.4 kB\u001b[0m \u001b[31m2.3 MB/s\u001b[0m eta \u001b[36m0:00:00\u001b[0m\n",
            "\u001b[?25hInstalling collected packages: dill\n",
            "Successfully installed dill-0.3.9\n"
          ]
        }
      ]
    },
    {
      "cell_type": "code",
      "execution_count": 27,
      "metadata": {
        "id": "7niqfzxOcTsH"
      },
      "outputs": [],
      "source": [
        "import dill\n",
        "with open('naive_bayes_model.pkl', 'wb') as file:\n",
        "    dill.dump(parallel_nb, file)"
      ]
    },
    {
      "cell_type": "code",
      "execution_count": 28,
      "metadata": {
        "id": "nP_UEDjxcTsH",
        "outputId": "674e73b0-783a-4255-c889-bcec79b8ade8",
        "colab": {
          "base_uri": "https://localhost:8080/"
        }
      },
      "outputs": [
        {
          "output_type": "execute_result",
          "data": {
            "text/plain": [
              "array([1, 1, 0, 1, 1, 1, 1, 0, 1, 1, 1, 1, 1, 1, 1, 1, 1, 1, 1, 1, 1, 1,\n",
              "       1, 1, 1, 1, 1, 1, 1, 1, 1, 1, 1, 1, 1, 1, 1, 1, 1, 1, 1, 1, 1, 1,\n",
              "       1, 1, 1, 1, 1, 1, 1, 1, 1, 1, 1, 1, 1, 1, 1, 1, 1, 1, 0, 1, 1, 1,\n",
              "       1, 1, 1, 1, 1, 1, 1, 1, 1, 1, 1, 1, 1, 1, 1, 1, 1, 1, 1, 1, 1, 1,\n",
              "       1, 1, 1, 1, 1, 1, 1, 1, 1, 1, 1, 1])"
            ]
          },
          "metadata": {},
          "execution_count": 28
        }
      ],
      "source": [
        "with open('naive_bayes_model.pkl', 'rb') as file:\n",
        "    nb = dill.load(file)\n",
        "nb.predict(np.random.randint(0,2,(100,100)))"
      ]
    },
    {
      "cell_type": "code",
      "source": [
        "# Set the parameters for GridSearchCV\n",
        "parameters = {'penalty': ['l1', 'l2'], 'C': [0.5, 1, 2]}\n",
        "\n",
        "# Initialize GridSearchCV with Logistic Regression and the parameter grid\n",
        "tuned_lr = GridSearchCV(lr, parameters)\n",
        "\n",
        "# Perform GridSearchCV with a ProgressBar to show progress\n",
        "with ProgressBar():\n",
        "    tuned_lr.fit(X_train, y_train)\n",
        "\n",
        "# Get the best hyperparameters and model\n",
        "best_params = tuned_lr.best_params_\n",
        "print(\"Best hyperparameters found:\", best_params)\n",
        "\n",
        "# Get the predictions using the best model\n",
        "y_pred = tuned_lr.predict(X_test)\n",
        "\n",
        "# Plotting the actual vs predicted values for the best model\n",
        "plt.figure(figsize=(10, 6))\n",
        "plt.scatter(y_test.compute(), y_pred.compute(), color='blue', alpha=0.5)\n",
        "plt.plot([min(y_test.compute()), max(y_test.compute())], [min(y_test.compute()), max(y_test.compute())], color='red', linestyle='--')  # Diagonal line\n",
        "plt.title(f\"Actual vs Predicted Values (Best Model: {best_params})\")\n",
        "plt.xlabel(\"Actual Values\")\n",
        "plt.ylabel(\"Predicted Values\")\n",
        "plt.show()"
      ],
      "metadata": {
        "colab": {
          "base_uri": "https://localhost:8080/",
          "height": 619
        },
        "id": "G0rzJXNFlzh8",
        "outputId": "87e2bd24-b67d-49be-be85-6d5e8aa13c60"
      },
      "execution_count": 30,
      "outputs": [
        {
          "output_type": "stream",
          "name": "stdout",
          "text": [
            "[########################################] | 100% Completed | 328.20 s\n",
            "[########################################] | 100% Completed | 144.31 s\n",
            "Best hyperparameters found: {'C': 0.5, 'penalty': 'l1'}\n"
          ]
        },
        {
          "output_type": "display_data",
          "data": {
            "text/plain": [
              "<Figure size 1000x600 with 1 Axes>"
            ],
            "image/png": "[encoded data removed]"
          },
          "metadata": {}
        }
      ]
    }
  ],
  "metadata": {
    "accelerator": "TPU",
    "colab": {
      "gpuType": "V28",
      "machine_shape": "hm",
      "provenance": [],
      "include_colab_link": true
    },
    "kernelspec": {
      "display_name": "Python 3",
      "name": "python3"
    },
    "language_info": {
      "codemirror_mode": {
        "name": "ipython",
        "version": 3
      },
      "file_extension": ".py",
      "mimetype": "text/x-python",
      "name": "python",
      "nbconvert_exporter": "python",
      "pygments_lexer": "ipython3",
      "version": "3.6.8"
    }
  },
  "nbformat": 4,
  "nbformat_minor": 0
}